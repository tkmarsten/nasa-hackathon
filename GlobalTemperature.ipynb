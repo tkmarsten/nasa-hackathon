{
 "cells": [
  {
   "cell_type": "code",
   "execution_count": 32,
   "metadata": {},
   "outputs": [],
   "source": [
    "import matplotlib.pyplot as plt\n",
    "import numpy as np\n",
    "import pandas as pd\n",
    "from sklearn.linear_model import LinearRegression"
   ]
  },
  {
   "cell_type": "code",
   "execution_count": 33,
   "metadata": {},
   "outputs": [
    {
     "data": {
      "text/html": [
       "<div>\n",
       "<style scoped>\n",
       "    .dataframe tbody tr th:only-of-type {\n",
       "        vertical-align: middle;\n",
       "    }\n",
       "\n",
       "    .dataframe tbody tr th {\n",
       "        vertical-align: top;\n",
       "    }\n",
       "\n",
       "    .dataframe thead th {\n",
       "        text-align: right;\n",
       "    }\n",
       "</style>\n",
       "<table border=\"1\" class=\"dataframe\">\n",
       "  <thead>\n",
       "    <tr style=\"text-align: right;\">\n",
       "      <th></th>\n",
       "      <th>Years</th>\n",
       "      <th>No Smoothing</th>\n",
       "      <th>Lowess (5)</th>\n",
       "    </tr>\n",
       "  </thead>\n",
       "  <tbody>\n",
       "    <tr>\n",
       "      <th>0</th>\n",
       "      <td>1880</td>\n",
       "      <td>-0.16</td>\n",
       "      <td>-0.09</td>\n",
       "    </tr>\n",
       "    <tr>\n",
       "      <th>1</th>\n",
       "      <td>1881</td>\n",
       "      <td>-0.08</td>\n",
       "      <td>-0.12</td>\n",
       "    </tr>\n",
       "    <tr>\n",
       "      <th>2</th>\n",
       "      <td>1882</td>\n",
       "      <td>-0.10</td>\n",
       "      <td>-0.16</td>\n",
       "    </tr>\n",
       "    <tr>\n",
       "      <th>3</th>\n",
       "      <td>1883</td>\n",
       "      <td>-0.17</td>\n",
       "      <td>-0.20</td>\n",
       "    </tr>\n",
       "    <tr>\n",
       "      <th>4</th>\n",
       "      <td>1884</td>\n",
       "      <td>-0.28</td>\n",
       "      <td>-0.23</td>\n",
       "    </tr>\n",
       "  </tbody>\n",
       "</table>\n",
       "</div>"
      ],
      "text/plain": [
       "   Years  No Smoothing  Lowess (5)\n",
       "0   1880         -0.16       -0.09\n",
       "1   1881         -0.08       -0.12\n",
       "2   1882         -0.10       -0.16\n",
       "3   1883         -0.17       -0.20\n",
       "4   1884         -0.28       -0.23"
      ]
     },
     "execution_count": 33,
     "metadata": {},
     "output_type": "execute_result"
    }
   ],
   "source": [
    "# Full dataset\n",
    "df = pd.read_csv('globaltemperature.csv', header=None, skiprows=5, usecols=[0, 1, 2])\n",
    "df.columns = [\"Years\", \"No Smoothing\", \"Lowess (5)\"]\n",
    "df.head()"
   ]
  },
  {
   "cell_type": "code",
   "execution_count": 34,
   "metadata": {},
   "outputs": [
    {
     "data": {
      "text/html": [
       "<div>\n",
       "<style scoped>\n",
       "    .dataframe tbody tr th:only-of-type {\n",
       "        vertical-align: middle;\n",
       "    }\n",
       "\n",
       "    .dataframe tbody tr th {\n",
       "        vertical-align: top;\n",
       "    }\n",
       "\n",
       "    .dataframe thead th {\n",
       "        text-align: right;\n",
       "    }\n",
       "</style>\n",
       "<table border=\"1\" class=\"dataframe\">\n",
       "  <thead>\n",
       "    <tr style=\"text-align: right;\">\n",
       "      <th></th>\n",
       "      <th>Years</th>\n",
       "      <th>No Smoothing</th>\n",
       "    </tr>\n",
       "  </thead>\n",
       "  <tbody>\n",
       "    <tr>\n",
       "      <th>0</th>\n",
       "      <td>1880</td>\n",
       "      <td>-0.16</td>\n",
       "    </tr>\n",
       "    <tr>\n",
       "      <th>1</th>\n",
       "      <td>1881</td>\n",
       "      <td>-0.08</td>\n",
       "    </tr>\n",
       "    <tr>\n",
       "      <th>2</th>\n",
       "      <td>1882</td>\n",
       "      <td>-0.10</td>\n",
       "    </tr>\n",
       "    <tr>\n",
       "      <th>3</th>\n",
       "      <td>1883</td>\n",
       "      <td>-0.17</td>\n",
       "    </tr>\n",
       "    <tr>\n",
       "      <th>4</th>\n",
       "      <td>1884</td>\n",
       "      <td>-0.28</td>\n",
       "    </tr>\n",
       "  </tbody>\n",
       "</table>\n",
       "</div>"
      ],
      "text/plain": [
       "   Years  No Smoothing\n",
       "0   1880         -0.16\n",
       "1   1881         -0.08\n",
       "2   1882         -0.10\n",
       "3   1883         -0.17\n",
       "4   1884         -0.28"
      ]
     },
     "execution_count": 34,
     "metadata": {},
     "output_type": "execute_result"
    }
   ],
   "source": [
    "# Partial dataset using years and no smoothing\n",
    "df_years_no_smoothing = pd.read_csv('globaltemperature.csv', header=None, skiprows=5, usecols=[0, 1])\n",
    "df_years_no_smoothing.columns = [\"Years\", \"No Smoothing\"]\n",
    "df_years_no_smoothing.head()"
   ]
  },
  {
   "cell_type": "code",
   "execution_count": 35,
   "metadata": {},
   "outputs": [
    {
     "data": {
      "text/plain": [
       "(139, 2)"
      ]
     },
     "execution_count": 35,
     "metadata": {},
     "output_type": "execute_result"
    }
   ],
   "source": [
    "# Dimensions of modified dataset\n",
    "df_years_no_smoothing.shape"
   ]
  },
  {
   "cell_type": "code",
   "execution_count": 65,
   "metadata": {},
   "outputs": [
    {
     "data": {
      "image/png": "[encoded data removed]",
      "text/plain": [
       "<Figure size 432x288 with 1 Axes>"
      ]
     },
     "metadata": {
      "needs_background": "light"
     },
     "output_type": "display_data"
    }
   ],
   "source": [
    "# Years column\n",
    "years = df_years_no_smoothing.iloc[:,0]\n",
    "# No_smoothing column\n",
    "no_smoothing_col = df_years_no_smoothing.iloc[:, 1]\n",
    "\n",
    "# Plot scatter plot of global temperature across year\n",
    "plt.scatter(years, no_smoothing_col)\n",
    "plt.title('Scatter Plot of Global Temperature vs Year')\n",
    "plt.xlabel('Years', fontsize=12)\n",
    "plt.ylabel('Global Temperature (C)', fontsize=12)\n",
    "plt.show()"
   ]
  },
  {
   "cell_type": "code",
   "execution_count": 37,
   "metadata": {},
   "outputs": [
    {
     "data": {
      "image/png": "[encoded data removed]",
      "text/plain": [
       "<Figure size 432x288 with 1 Axes>"
      ]
     },
     "metadata": {
      "needs_background": "light"
     },
     "output_type": "display_data"
    }
   ],
   "source": [
    "m, b = np.polyfit(years, no_smoothing_col, 1)\n",
    "\n",
    "def f(x):\n",
    "    return m * x + b\n",
    "\n",
    "plt.scatter(years, no_smoothing_col)\n",
    "plt.plot(years, f(years), \"r--\")\n",
    "plt.title('Scatter Plot of Global Temperature vs Year')\n",
    "plt.xlabel('Years', fontsize=12)\n",
    "plt.ylabel('Global Temperature (C)', fontsize=12)\n",
    "plt.show()"
   ]
  },
  {
   "cell_type": "code",
   "execution_count": 38,
   "metadata": {},
   "outputs": [
    {
     "name": "stdout",
     "output_type": "stream",
     "text": [
      "coefficient = 0.007316591447339025, and intercept = -14.224425220072392\n"
     ]
    }
   ],
   "source": [
    "x = df_years_no_smoothing['Years'].values\n",
    "y = df_years_no_smoothing['No Smoothing'].values\n",
    "\n",
    "model = LinearRegression(fit_intercept=True)\n",
    "model.fit(x.reshape(-1, 1), y)\n",
    "print(\"coefficient = {0}, and intercept = {1}\".format(model.coef_[0], \n",
    "      model.intercept_))"
   ]
  },
  {
   "cell_type": "code",
   "execution_count": 72,
   "metadata": {},
   "outputs": [
    {
     "data": {
      "text/plain": [
       "-32891997.041525263"
      ]
     },
     "execution_count": 72,
     "metadata": {},
     "output_type": "execute_result"
    }
   ],
   "source": [
    "from sklearn.metrics import r2_score, mean_squared_error\n",
    "r2_score(y, x)"
   ]
  },
  {
   "cell_type": "code",
   "execution_count": 43,
   "metadata": {},
   "outputs": [
    {
     "name": "stdout",
     "output_type": "stream",
     "text": [
      "0.03561151079136695\n"
     ]
    }
   ],
   "source": [
    "mean_no_smoothing_col = np.sum(no_smoothing_col) / 139\n",
    "print(mean_no_smoothing_col)"
   ]
  },
  {
   "cell_type": "code",
   "execution_count": 47,
   "metadata": {},
   "outputs": [
    {
     "name": "stdout",
     "output_type": "stream",
     "text": [
      "1.01 - -0.48 = 1.49\n"
     ]
    }
   ],
   "source": [
    "range_no_smoothing_col = np.max(no_smoothing_col) - np.min(no_smoothing_col)\n",
    "print(np.max(no_smoothing_col), \"-\", np.min(no_smoothing_col), \"=\", range_no_smoothing_col)"
   ]
  },
  {
   "cell_type": "code",
   "execution_count": 58,
   "metadata": {},
   "outputs": [
    {
     "data": {
      "image/png": "[encoded data removed]",
      "text/plain": [
       "<Figure size 432x288 with 1 Axes>"
      ]
     },
     "metadata": {
      "needs_background": "light"
     },
     "output_type": "display_data"
    }
   ],
   "source": [
    "# Mean normalization\n",
    "mean_norm_no_smoothing_col = (no_smoothing_col - mean_no_smoothing_col) / range_no_smoothing_col\n",
    "\n",
    "# Plot\n",
    "plt.scatter(years, mean_norm_no_smoothing_col)\n",
    "plt.title('Scatter Plot of Mean Normalization Global Temperature vs Year')\n",
    "plt.xlabel('Years', fontsize=12)\n",
    "plt.ylabel('Mean Normalization Global Temperature (C)', fontsize=12)\n",
    "plt.show()"
   ]
  },
  {
   "cell_type": "code",
   "execution_count": 70,
   "metadata": {},
   "outputs": [
    {
     "name": "stdout",
     "output_type": "stream",
     "text": [
      "coefficient = 0.004910464058616795, and intercept = -9.570494450244134\n"
     ]
    }
   ],
   "source": [
    "mean_norm_y = mean_norm_no_smoothing_col.values\n",
    "\n",
    "mean_norm_model = LinearRegression(fit_intercept=True)\n",
    "mean_norm_model.fit(x.reshape(-1, 1), mean_norm_y)\n",
    "print(\"coefficient = {0}, and intercept = {1}\".format(mean_norm_model.coef_[0], \n",
    "      mean_norm_model.intercept_))"
   ]
  },
  {
   "cell_type": "code",
   "execution_count": 73,
   "metadata": {},
   "outputs": [
    {
     "data": {
      "text/plain": [
       "-73026339.00033595"
      ]
     },
     "execution_count": 73,
     "metadata": {},
     "output_type": "execute_result"
    }
   ],
   "source": [
    "r2_score(mean_norm_y, x)"
   ]
  }
 ],
 "metadata": {
  "kernelspec": {
   "display_name": "Python 3",
   "language": "python",
   "name": "python3"
  },
  "language_info": {
   "codemirror_mode": {
    "name": "ipython",
    "version": 3
   },
   "file_extension": ".py",
   "mimetype": "text/x-python",
   "name": "python",
   "nbconvert_exporter": "python",
   "pygments_lexer": "ipython3",
   "version": "3.7.3"
  }
 },
 "nbformat": 4,
 "nbformat_minor": 2
}
