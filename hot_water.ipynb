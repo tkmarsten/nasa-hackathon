{
 "cells": [
  {
   "cell_type": "code",
   "execution_count": 1,
   "metadata": {},
   "outputs": [],
   "source": [
    "import os\n",
    "import numpy as np\n",
    "import pandas as pd\n",
    "from sklearn.linear_model import LinearRegression\n",
    "from sklearn import linear_model\n",
    "\n",
    "import plotly.graph_objects as go\n",
    "from plotly.subplots import make_subplots\n",
    "\n",
    "import seaborn as sns\n",
    "sns.set(style=\"whitegrid\")\n",
    "sns.set_context(\"talk\")  # thicker line\n",
    "\n",
    "CODE_DIR = \"/home/rock/Documents/NASA_SpaceApps_20191018/\"\n",
    "DATA_DIR = CODE_DIR + \"data/\"\n",
    "\n",
    "SEALEVELS = \"sea_levels.csv\"\n",
    "CO2 = \"co2.csv\"\n",
    "TEMP = \"temp.csv\""
   ]
  },
  {
   "cell_type": "markdown",
   "metadata": {},
   "source": [
    "<span style=\"color:purple\">\n",
    "    <h2>Sea Level Change</h2>\n",
    "<p><b>Model Sea Level Change since 1993</b></p>\n",
    "</span>"
   ]
  },
  {
   "cell_type": "code",
   "execution_count": 3,
   "metadata": {},
   "outputs": [],
   "source": [
    "# Model Sea Level Change over Time (years)\n",
    "sl_df = pd.read_csv(DATA_DIR+SEALEVELS, header=None, skiprows=50, usecols=[2,11])\n",
    "sl_df.columns = ['year', 'level']"
   ]
  },
  {
   "cell_type": "code",
   "execution_count": 4,
   "metadata": {},
   "outputs": [],
   "source": [
    "x = sl_df['year'].values\n",
    "y = sl_df['level'].values\n",
    "\n",
    "model = LinearRegression().fit(x.reshape(-1, 1),y)"
   ]
  },
  {
   "cell_type": "code",
   "execution_count": 5,
   "metadata": {},
   "outputs": [
    {
     "data": {
      "text/plain": [
       "array([3.28898375])"
      ]
     },
     "execution_count": 5,
     "metadata": {},
     "output_type": "execute_result"
    }
   ],
   "source": [
    "model.coef_  # Sea Level chnage per year = 3.29 mm"
   ]
  },
  {
   "cell_type": "markdown",
   "metadata": {},
   "source": [
    "<span style=\"color:black\">\n",
    "    <h3>Result: Sea Level chnage per year = 3.29 mm</h3>\n",
    "</span>"
   ]
  },
  {
   "cell_type": "markdown",
   "metadata": {},
   "source": [
    "<span style=\"color:purple\">\n",
    "    <h2>Carbon Dioxide</h2>\n",
    "<p><b>Plot Carbon Dioxide Levels since 1958</b></p>\n",
    "</span>"
   ]
  },
  {
   "cell_type": "code",
   "execution_count": 6,
   "metadata": {},
   "outputs": [],
   "source": [
    "# Plot Carbon Dioxide Levels since 1958\n",
    "co2df = pd.read_csv(DATA_DIR+CO2, header=None, skiprows=72, usecols=[2,3,5])\n",
    "co2df.columns = ['year', 'average', 'trend']"
   ]
  },
  {
   "cell_type": "code",
   "execution_count": 22,
   "metadata": {},
   "outputs": [
    {
     "data": {
      "text/plain": [
       "[Text(0, 0.5, 'CO2 (ppm)'), Text(0.5, 0, 'year')]"
      ]
     },
     "execution_count": 22,
     "metadata": {},
     "output_type": "execute_result"
    },
    {
     "data": {
      "image/png": "[encoded data removed]",
      "text/plain": [
       "<Figure size 432x288 with 1 Axes>"
      ]
     },
     "metadata": {},
     "output_type": "display_data"
    }
   ],
   "source": [
    "ax = sns.lineplot(co2df['year'], co2df['trend'])\n",
    "ax.grid(b=False, axis='y')\n",
    "ax.set(xlabel='year', ylabel='CO2 (ppm)')"
   ]
  },
  {
   "cell_type": "code",
   "execution_count": 23,
   "metadata": {},
   "outputs": [],
   "source": [
    "# CO2 levels since 1993\n",
    "co2_1993 = co2df.loc[co2df['year'] >= 1993, :]"
   ]
  },
  {
   "cell_type": "code",
   "execution_count": 42,
   "metadata": {
    "scrolled": false
   },
   "outputs": [
    {
     "data": {
      "application/vnd.plotly.v1+json": {
       "config": {
        "plotlyServerURL": "https://plot.ly"
       },
       "data": [
        {
         "line": {
          "color": "blue",
          "width": 3
         },
         "name": "CO2 level",
         "type": "scatter",
         "x": [
          1993.0420000000001,
          1993.125,
          1993.2079999999999,
          1993.2920000000001,
          1993.375,
          1993.4579999999999,
          1993.5420000000001,
          1993.625,
          1993.7079999999999,
          1993.7920000000001,
          1993.875,
          1993.9579999999999,
          1994.0420000000001,
          1994.125,
          1994.2079999999999,
          1994.2920000000001,
          1994.375,
          1994.4579999999999,
          1994.5420000000001,
          1994.625,
          1994.7079999999999,
          1994.7920000000001,
          1994.875,
          1994.9579999999999,
          1995.0420000000001,
          1995.125,
          1995.2079999999999,
          1995.2920000000001,
          1995.375,
          1995.4579999999999,
          1995.5420000000001,
          1995.625,
          1995.7079999999999,
          1995.7920000000001,
          1995.875,
          1995.9579999999999,
          1996.0420000000001,
          1996.125,
          1996.2079999999999,
          1996.2920000000001,
          1996.375,
          1996.4579999999999,
          1996.5420000000001,
          1996.625,
          1996.7079999999999,
          1996.7920000000001,
          1996.875,
          1996.9579999999999,
          1997.0420000000001,
          1997.125,
          1997.2079999999999,
          1997.2920000000001,
          1997.375,
          1997.4579999999999,
          1997.5420000000001,
          1997.625,
          1997.7079999999999,
          1997.7920000000001,
          1997.875,
          1997.9579999999999,
          1998.0420000000001,
          1998.125,
          1998.2079999999999,
          1998.2920000000001,
          1998.375,
          1998.4579999999999,
          1998.5420000000001,
          1998.625,
          1998.7079999999999,
          1998.7920000000001,
          1998.875,
          1998.9579999999999,
          1999.0420000000001,
          1999.125,
          1999.2079999999999,
          1999.2920000000001,
          1999.375,
          1999.4579999999999,
          1999.5420000000001,
          1999.625,
          1999.7079999999999,
          1999.7920000000001,
          1999.875,
          1999.9579999999999,
          2000.0420000000001,
          2000.125,
          2000.2079999999999,
          2000.2920000000001,
          2000.375,
          2000.4579999999999,
          2000.5420000000001,
          2000.625,
          2000.7079999999999,
          2000.7920000000001,
          2000.875,
          2000.9579999999999,
          2001.0420000000001,
          2001.125,
          2001.2079999999999,
          2001.2920000000001,
          2001.375,
          2001.4579999999999,
          2001.5420000000001,
          2001.625,
          2001.7079999999999,
          2001.7920000000001,
          2001.875,
          2001.9579999999999,
          2002.0420000000001,
          2002.125,
          2002.2079999999999,
          2002.2920000000001,
          2002.375,
          2002.4579999999999,
          2002.5420000000001,
          2002.625,
          2002.7079999999999,
          2002.7920000000001,
          2002.875,
          2002.9579999999999,
          2003.0420000000001,
          2003.125,
          2003.2079999999999,
          2003.2920000000001,
          2003.375,
          2003.4579999999999,
          2003.5420000000001,
          2003.625,
          2003.7079999999999,
          2003.7920000000001,
          2003.875,
          2003.9579999999999,
          2004.0420000000001,
          2004.125,
          2004.2079999999999,
          2004.2920000000001,
          2004.375,
          2004.4579999999999,
          2004.5420000000001,
          2004.625,
          2004.7079999999999,
          2004.7920000000001,
          2004.875,
          2004.9579999999999,
          2005.0420000000001,
          2005.125,
          2005.2079999999999,
          2005.2920000000001,
          2005.375,
          2005.4579999999999,
          2005.5420000000001,
          2005.625,
          2005.7079999999999,
          2005.7920000000001,
          2005.875,
          2005.9579999999999,
          2006.0420000000001,
          2006.125,
          2006.2079999999999,
          2006.2920000000001,
          2006.375,
          2006.4579999999999,
          2006.5420000000001,
          2006.625,
          2006.7079999999999,
          2006.7920000000001,
          2006.875,
          2006.9579999999999,
          2007.0420000000001,
          2007.125,
          2007.2079999999999,
          2007.2920000000001,
          2007.375,
          2007.4579999999999,
          2007.5420000000001,
          2007.625,
          2007.7079999999999,
          2007.7920000000001,
          2007.875,
          2007.9579999999999,
          2008.0420000000001,
          2008.125,
          2008.2079999999999,
          2008.2920000000001,
          2008.375,
          2008.4579999999999,
          2008.5420000000001,
          2008.625,
          2008.7079999999999,
          2008.7920000000001,
          2008.875,
          2008.9579999999999,
          2009.0420000000001,
          2009.125,
          2009.2079999999999,
          2009.2920000000001,
          2009.375,
          2009.4579999999999,
          2009.5420000000001,
          2009.625,
          2009.7079999999999,
          2009.7920000000001,
          2009.875,
          2009.9579999999999,
          2010.0420000000001,
          2010.125,
          2010.2079999999999,
          2010.2920000000001,
          2010.375,
          2010.4579999999999,
          2010.5420000000001,
          2010.625,
          2010.7079999999999,
          2010.7920000000001,
          2010.875,
          2010.9579999999999,
          2011.0420000000001,
          2011.125,
          2011.2079999999999,
          2011.2920000000001,
          2011.375,
          2011.4579999999999,
          2011.5420000000001,
          2011.625,
          2011.7079999999999,
          2011.7920000000001,
          2011.875,
          2011.9579999999999,
          2012.0420000000001,
          2012.125,
          2012.2079999999999,
          2012.2920000000001,
          2012.375,
          2012.4579999999999,
          2012.5420000000001,
          2012.625,
          2012.7079999999999,
          2012.7920000000001,
          2012.875,
          2012.9579999999999,
          2013.0420000000001,
          2013.125,
          2013.2079999999999,
          2013.2920000000001,
          2013.375,
          2013.4579999999999,
          2013.5420000000001,
          2013.625,
          2013.7079999999999,
          2013.7920000000001,
          2013.875,
          2013.9579999999999,
          2014.0420000000001,
          2014.125,
          2014.2079999999999,
          2014.2920000000001,
          2014.375,
          2014.4579999999999,
          2014.5420000000001,
          2014.625,
          2014.7079999999999,
          2014.7920000000001,
          2014.875,
          2014.9579999999999,
          2015.0420000000001,
          2015.125,
          2015.2079999999999,
          2015.2920000000001,
          2015.375,
          2015.4579999999999,
          2015.5420000000001,
          2015.625,
          2015.7079999999999,
          2015.7920000000001,
          2015.875,
          2015.9579999999999,
          2016.0420000000001,
          2016.125,
          2016.2079999999999,
          2016.2920000000001,
          2016.375,
          2016.4579999999999,
          2016.5420000000001,
          2016.625,
          2016.7079999999999,
          2016.7920000000001,
          2016.875,
          2016.9579999999999,
          2017.0420000000001,
          2017.125,
          2017.2079999999999,
          2017.2920000000001,
          2017.375,
          2017.4579999999999,
          2017.5420000000001,
          2017.625,
          2017.7079999999999,
          2017.7920000000001,
          2017.875,
          2017.9579999999999,
          2018.0420000000001,
          2018.125,
          2018.2079999999999,
          2018.2920000000001,
          2018.375,
          2018.4579999999999,
          2018.5420000000001,
          2018.625,
          2018.7079999999999,
          2018.7920000000001,
          2018.875,
          2018.9579999999999,
          2019.0420000000001,
          2019.125,
          2019.2079999999999,
          2019.2920000000001,
          2019.375,
          2019.4579999999999,
          2019.5420000000001,
          2019.625,
          2019.7079999999999
         ],
         "xaxis": "x",
         "y": [
          356.96,
          356.44,
          356.76,
          356.59,
          357.03,
          357.12,
          356.76,
          357.32,
          357.39,
          357.49,
          357.54,
          357.8,
          358.13,
          358.09,
          358.29,
          358.46,
          358.46,
          358.44,
          358.79,
          359.16,
          359.17,
          359.49,
          359.68,
          359.83,
          359.79,
          360.05,
          360.22,
          360.62,
          360.58,
          360.84,
          360.97,
          360.73,
          361.55,
          361.37,
          361.59,
          361.53,
          361.85,
          362.35,
          362.53,
          361.86,
          362.1,
          362.69,
          362.85,
          362.98,
          362.99,
          362.97,
          363.03,
          363.08,
          362.88,
          363.22,
          362.88,
          363.68,
          363.74,
          363.41,
          363.6,
          363.84,
          363.68,
          364.12,
          364.56,
          365.15,
          365.07,
          365.17,
          365.6,
          366.03,
          366.55,
          366.8,
          367.14,
          367.55,
          367.37,
          367.67,
          367.56,
          367.88,
          367.96,
          368.26,
          368.08,
          368.45,
          368.15,
          368.13,
          368.77,
          368.48,
          368.13,
          368.64,
          368.71,
          368.77,
          369.08,
          368.83,
          369.09,
          369.28,
          368.71,
          369.5,
          369.2,
          369.72,
          370.3,
          370.26,
          370.32,
          370.3,
          370.43,
          370.78,
          370.87,
          370.81,
          370.94,
          370.99,
          370.9,
          371.22,
          371.44,
          371.69,
          371.74,
          371.92,
          372.3,
          372.33,
          372.44,
          372.37,
          372.81,
          373.3,
          373.42,
          373.52,
          374.11,
          373.88,
          374.34,
          374.53,
          374.63,
          374.77,
          374.8,
          375.06,
          375.55,
          376.04,
          376.19,
          376.08,
          376.48,
          376.47,
          376.81,
          376.75,
          376.78,
          377.02,
          377.23,
          377.62,
          377.48,
          377.39,
          376.94,
          377.74,
          377.62,
          377.82,
          378.31,
          378.31,
          378.21,
          378.93,
          379.27,
          379.65,
          379.31,
          379.88,
          380.18,
          380.42,
          380.01,
          380.3,
          380.5,
          380.9,
          381.14,
          381.38,
          381.14,
          381.91,
          381.87,
          381.75,
          381.91,
          382.08,
          382.16,
          382.46,
          382.33,
          382.64,
          382.67,
          383.01,
          382.94,
          383.71,
          383.34,
          383.84,
          384.02,
          383.7,
          384.32,
          384.47,
          384.65,
          384.83,
          385.28,
          384.96,
          384.48,
          384.58,
          385.45,
          385.46,
          385.8,
          385.75,
          386.46,
          386.27,
          386.37,
          386.41,
          386.63,
          386.59,
          387.32,
          386.92,
          387.02,
          387.24,
          387.55,
          387.8,
          388.01,
          387.68,
          388.16,
          388.23,
          388.41,
          389.26,
          389.65,
          389.89,
          389.88,
          389.89,
          389.72,
          390.01,
          390.14,
          390.53,
          390.79,
          390.6,
          391.03,
          390.94,
          391.07,
          390.63,
          391.02,
          391.44,
          392.04,
          391.83,
          392.4,
          392.33,
          392.44,
          392.66,
          392.89,
          393.04,
          392.8,
          393.43,
          393.54,
          393.45,
          393.92,
          394.17,
          394.54,
          394.41,
          395.02,
          395.04,
          395.4,
          396.01,
          395.84,
          395.53,
          396.4,
          396.28,
          396.92,
          397.08,
          396.99,
          397.04,
          397.15,
          397.59,
          397.55,
          397.21,
          398.24,
          398.49,
          398.37,
          398.93,
          398.67,
          398.92,
          398.97,
          399.43,
          399.36,
          399.64,
          399.73,
          399.52,
          400.03,
          400.38,
          400.51,
          400.48,
          400.93,
          400.85,
          401.26,
          401.69,
          402.11,
          402.51,
          402.27,
          403.31,
          403.39,
          404.63,
          404.27,
          404.49,
          404.07,
          404.18,
          404.59,
          404.97,
          405.55,
          405.13,
          405.88,
          405.65,
          405.74,
          406.22,
          406.24,
          406.54,
          406.79,
          407.04,
          406.91,
          407,
          407.12,
          407.49,
          407.67,
          407.52,
          407.93,
          407.42,
          407.79,
          408.45,
          408.37,
          408.9,
          409.05,
          409.38,
          410.02,
          409.75,
          410.54,
          410.94,
          410.49,
          410.49,
          411.21,
          411.58,
          411.43,
          411.86,
          412.08
         ],
         "yaxis": "y"
        },
        {
         "line": {
          "color": "red",
          "width": 3
         },
         "name": "Sea level",
         "type": "scatter",
         "x": [
          1993.0115260000002,
          1993.038692,
          1993.065858,
          1993.093025,
          1993.120191,
          1993.147357,
          1993.1745230000001,
          1993.201689,
          1993.228855,
          1993.2560210000001,
          1993.2831879999999,
          1993.310354,
          1993.3375199999998,
          1993.364686,
          1993.391852,
          1993.419018,
          1993.4461850000002,
          1993.473351,
          1993.5005170000002,
          1993.5276829999998,
          1993.5548489999999,
          1993.582015,
          1993.6091809999998,
          1993.636348,
          1993.663514,
          1993.6906800000002,
          1993.717846,
          1993.745012,
          1993.7721780000002,
          1993.799345,
          1993.826511,
          1993.853677,
          1993.880843,
          1993.908009,
          1993.935175,
          1993.962341,
          1993.989508,
          1994.0166739999997,
          1994.0438399999998,
          1994.071006,
          1994.098172,
          1994.1253379999998,
          1994.152505,
          1994.179671,
          1994.2068370000002,
          1994.234003,
          1994.261169,
          1994.2883350000002,
          1994.3155010000003,
          1994.342668,
          1994.369834,
          1994.397,
          1994.424166,
          1994.451332,
          1994.478498,
          1994.505664,
          1994.5328309999998,
          1994.5599969999998,
          1994.587163,
          1994.614329,
          1994.6414949999998,
          1994.668661,
          1994.6958280000001,
          1994.7229940000002,
          1994.75016,
          1994.7773260000001,
          1994.8044920000002,
          1994.8316579999998,
          1994.858824,
          1994.885991,
          1994.913157,
          1994.940323,
          1994.9674890000001,
          1994.994655,
          1995.021821,
          1995.048988,
          1995.0761539999999,
          1995.10332,
          1995.130486,
          1995.1576519999999,
          1995.184818,
          1995.211984,
          1995.2391510000002,
          1995.266317,
          1995.293483,
          1995.3206489999998,
          1995.3478149999999,
          1995.374981,
          1995.4021480000001,
          1995.429314,
          1995.45648,
          1995.4836460000001,
          1995.5108120000002,
          1995.537978,
          1995.5651440000001,
          1995.5923109999999,
          1995.619477,
          1995.646643,
          1995.673809,
          1995.700975,
          1995.728141,
          1995.7553070000001,
          1995.7824739999999,
          1995.80964,
          1995.8368059999998,
          1995.8639719999999,
          1995.891138,
          1995.9183039999998,
          1995.945471,
          1995.972637,
          1995.9998030000002,
          1996.026895,
          1996.053987,
          1996.0810789999998,
          1996.108171,
          1996.135263,
          1996.1623550000002,
          1996.189447,
          1996.216539,
          1996.2436309999998,
          1996.270723,
          1996.297815,
          1996.324907,
          1996.351998,
          1996.37909,
          1996.406182,
          1996.4332739999998,
          1996.460366,
          1996.4874579999998,
          1996.51455,
          1996.5416420000001,
          1996.568734,
          1996.5958260000002,
          1996.622918,
          1996.65001,
          1996.6771019999999,
          1996.7041940000001,
          1996.731285,
          1996.7583769999999,
          1996.7854690000001,
          1996.812561,
          1996.8396530000002,
          1996.866745,
          1996.893837,
          1996.920929,
          1996.9480210000002,
          1996.975113,
          1997.002211,
          1997.029377,
          1997.056543,
          1997.083709,
          1997.110875,
          1997.1380420000003,
          1997.165208,
          1997.1923739999997,
          1997.2195399999998,
          1997.246706,
          1997.273872,
          1997.3010379999998,
          1997.328205,
          1997.355371,
          1997.3825370000002,
          1997.409703,
          1997.4368690000001,
          1997.4640350000002,
          1997.491202,
          1997.518368,
          1997.545534,
          1997.5727,
          1997.599866,
          1997.627032,
          1997.654198,
          1997.681365,
          1997.7085309999998,
          1997.7356969999998,
          1997.762863,
          1997.790029,
          1997.8171949999999,
          1997.844362,
          1997.8715280000001,
          1997.8986940000002,
          1997.92586,
          1997.9530260000001,
          1997.9801920000002,
          1998.0073579999998,
          1998.034525,
          1998.061691,
          1998.088857,
          1998.116023,
          1998.1431890000001,
          1998.170355,
          1998.197521,
          1998.2246879999998,
          1998.2518539999999,
          1998.27902,
          1998.306186,
          1998.3333519999999,
          1998.360518,
          1998.3876850000001,
          1998.4148510000002,
          1998.442017,
          1998.469183,
          1998.4963489999998,
          1998.5235149999999,
          1998.550681,
          1998.5778480000001,
          1998.605014,
          1998.63218,
          1998.6593460000001,
          1998.686512,
          1998.713678,
          1998.740845,
          1998.768011,
          1998.795177,
          1998.822343,
          1998.849509,
          1998.876675,
          1998.903841,
          1998.9310079999998,
          1998.9581739999999,
          1998.98534,
          1999.0125059999998,
          1999.0396719999999,
          1999.066838,
          1999.0940050000002,
          1999.121171,
          1999.148337,
          1999.1755030000002,
          1999.2026690000002,
          1999.229835,
          1999.2570010000002,
          1999.284168,
          1999.311334,
          1999.3385,
          1999.365666,
          1999.392832,
          1999.419998,
          1999.4471640000002,
          1999.474331,
          1999.501497,
          1999.5286629999998,
          1999.555829,
          1999.582995,
          1999.6101609999998,
          1999.637328,
          1999.664494,
          1999.6916600000002,
          1999.7188260000003,
          1999.7459920000001,
          1999.7731579999997,
          1999.8003239999998,
          1999.827491,
          1999.854657,
          1999.881823,
          1999.908989,
          1999.936155,
          1999.9633210000002,
          1999.990488,
          2000.017605,
          2000.0446969999998,
          2000.071789,
          2000.098881,
          2000.1259730000002,
          2000.1530649999997,
          2000.180157,
          2000.2072489999998,
          2000.234341,
          2000.261433,
          2000.288525,
          2000.3156170000002,
          2000.342709,
          2000.369801,
          2000.3968920000002,
          2000.423984,
          2000.451076,
          2000.4781679999999,
          2000.5052600000001,
          2000.532352,
          2000.5594440000002,
          2000.586536,
          2000.613628,
          2000.6407199999999,
          2000.6678120000001,
          2000.694904,
          2000.721996,
          2000.7490879999998,
          2000.776179,
          2000.803271,
          2000.8303629999998,
          2000.857455,
          2000.8845469999999,
          2000.9116390000002,
          2000.938731,
          2000.965823,
          2000.9929149999998,
          2001.020062,
          2001.0472280000001,
          2001.0743940000002,
          2001.10156,
          2001.1287260000001,
          2001.1558920000002,
          2001.183059,
          2001.210225,
          2001.2373910000001,
          2001.264557,
          2001.291723,
          2001.3188890000001,
          2001.346055,
          2001.373222,
          2001.4003879999998,
          2001.4275539999999,
          2001.45472,
          2001.481886,
          2001.5090519999999,
          2001.536218,
          2001.5633850000002,
          2001.5905510000002,
          2001.617717,
          2001.6448829999997,
          2001.6720489999998,
          2001.6992149999999,
          2001.726382,
          2001.7535480000001,
          2001.780714,
          2001.80788,
          2001.8350460000001,
          2001.862212,
          2001.889378,
          2001.9165449999998,
          2001.943711,
          2001.970877,
          2001.998043,
          2002.025209,
          2002.052375,
          2002.0795420000002,
          2002.1067079999998,
          2002.1338739999999,
          2002.16104,
          2002.1882059999998,
          2002.215372,
          2002.242538,
          2002.2697050000002,
          2002.296871,
          2002.324037,
          2002.3512030000002,
          2002.378369,
          2002.405535,
          2002.432702,
          2002.459868,
          2002.487034,
          2002.5142,
          2002.541366,
          2002.568532,
          2002.595698,
          2002.6228649999998,
          2002.650031,
          2002.677197,
          2002.7043629999998,
          2002.731529,
          2002.758695,
          2002.7858609999998,
          2002.813028,
          2002.840194,
          2002.8673600000002,
          2002.8945260000003,
          2002.9216920000001,
          2002.9488579999997,
          2002.976025,
          2003.003191,
          2003.030357,
          2003.057523,
          2003.084689,
          2003.111855,
          2003.1390210000002,
          2003.166188,
          2003.193354,
          2003.2205199999999,
          2003.247686,
          2003.274852,
          2003.3020179999999,
          2003.329185,
          2003.3563510000001,
          2003.3835170000002,
          2003.4106829999998,
          2003.437849,
          2003.4650149999998,
          2003.4921809999998,
          2003.519348,
          2003.5465140000001,
          2003.57368,
          2003.600846,
          2003.6280120000001,
          2003.6551780000002,
          2003.682345,
          2003.709511,
          2003.7366769999999,
          2003.763843,
          2003.791009,
          2003.818175,
          2003.845341,
          2003.872508,
          2003.8996739999998,
          2003.9268399999999,
          2003.954006,
          2003.9811719999998,
          2004.008316,
          2004.035407,
          2004.062499,
          2004.089591,
          2004.1166829999997,
          2004.143775,
          2004.1708670000003,
          2004.197959,
          2004.2250510000001,
          2004.252143,
          2004.2792350000002,
          2004.306327,
          2004.333419,
          2004.3605109999999,
          2004.3876030000001,
          2004.414694,
          2004.4417859999999,
          2004.4688780000001,
          2004.49597,
          2004.5230620000002,
          2004.550154,
          2004.577246,
          2004.6043379999999,
          2004.6314300000001,
          2004.658522,
          2004.685614,
          2004.7127059999998,
          2004.739798,
          2004.7668899999999,
          2004.7939809999998,
          2004.821073,
          2004.8481649999999,
          2004.875257,
          2004.9023489999997,
          2004.929441,
          2004.9565329999998,
          2004.983625,
          2005.0107460000002,
          2005.037912,
          2005.065079,
          2005.0922449999998,
          2005.119411,
          2005.146577,
          2005.173743,
          2005.200909,
          2005.228075,
          2005.2552420000002,
          2005.2824079999998,
          2005.3095739999999,
          2005.33674,
          2005.3639059999998,
          2005.391072,
          2005.418239,
          2005.4454050000002,
          2005.472571,
          2005.499737,
          2005.5269030000002,
          2005.554069,
          2005.581235,
          2005.6084019999998,
          2005.635568,
          2005.662734,
          2005.6899,
          2005.717066,
          2005.744232,
          2005.7713989999997,
          2005.7985649999998,
          2005.825731,
          2005.852897,
          2005.8800629999998,
          2005.907229,
          2005.934395,
          2005.9615620000002,
          2005.988728,
          2006.0158940000001,
          2006.0430600000002,
          2006.0702260000003,
          2006.0973920000001,
          2006.124559,
          2006.151725,
          2006.178891,
          2006.206057,
          2006.233223,
          2006.260389,
          2006.287555,
          2006.3147219999998,
          2006.341888,
          2006.369054,
          2006.3962199999999,
          2006.423386,
          2006.450552,
          2006.4777179999999,
          2006.504885,
          2006.5320510000001,
          2006.5592170000002,
          2006.5863829999998,
          2006.613549,
          2006.6407149999998,
          2006.667882,
          2006.695048,
          2006.7222140000001,
          2006.74938,
          2006.776546,
          2006.8037120000001,
          2006.8308780000002,
          2006.885211,
          2006.9123769999999,
          2006.939543,
          2006.966709,
          2006.993875,
          2007.021042,
          2007.048208,
          2007.0753739999998,
          2007.1025399999999,
          2007.129706,
          2007.1568719999998,
          2007.1840379999999,
          2007.211205,
          2007.2383710000001,
          2007.265537,
          2007.292703,
          2007.3198690000002,
          2007.3470350000002,
          2007.374202,
          2007.401368,
          2007.428534,
          2007.4557,
          2007.482866,
          2007.5100320000001,
          2007.537198,
          2007.564365,
          2007.5915309999998,
          2007.6186969999999,
          2007.645863,
          2007.6730289999998,
          2007.700195,
          2007.727361,
          2007.7545280000002,
          2007.7816940000002,
          2007.80886,
          2007.8360260000002,
          2007.8631920000003,
          2007.8903579999999,
          2007.917525,
          2007.944691,
          2007.971857,
          2007.999023,
          2008.026118,
          2008.05321,
          2008.0803010000002,
          2008.107393,
          2008.134485,
          2008.1615769999999,
          2008.1886690000001,
          2008.215761,
          2008.2428530000002,
          2008.269945,
          2008.297037,
          2008.3241289999999,
          2008.3512210000001,
          2008.378313,
          2008.405405,
          2008.4324969999998,
          2008.459588,
          2008.48668,
          2008.5137719999998,
          2008.540864,
          2008.5679559999999,
          2008.5950480000001,
          2008.62214,
          2008.649232,
          2008.6763239999998,
          2008.703416,
          2008.7305079999999,
          2008.7576,
          2008.7846920000002,
          2008.811784,
          2008.838875,
          2008.8659670000002,
          2008.893059,
          2008.9201510000003,
          2008.947243,
          2008.974335,
          2009.001431,
          2009.028597,
          2009.0557629999998,
          2009.082929,
          2009.110096,
          2009.1372620000002,
          2009.164428,
          2009.1915940000001,
          2009.2187600000002,
          2009.245926,
          2009.2730920000001,
          2009.300259,
          2009.327425,
          2009.354591,
          2009.381757,
          2009.408923,
          2009.436089,
          2009.4632559999998,
          2009.4904219999999,
          2009.517588,
          2009.544754,
          2009.5719199999999,
          2009.599086,
          2009.626252,
          2009.6534190000002,
          2009.680585,
          2009.7077510000001,
          2009.7349170000002,
          2009.7620829999998,
          2009.789249,
          2009.8164149999998,
          2009.843582,
          2009.870748,
          2009.8979140000001,
          2009.92508,
          2009.952246,
          2009.9794120000001,
          2010.0065789999999,
          2010.033745,
          2010.060911,
          2010.0880769999999,
          2010.115243,
          2010.142409,
          2010.169575,
          2010.196742,
          2010.2239079999997,
          2010.2510739999998,
          2010.2782399999999,
          2010.305406,
          2010.3325719999998,
          2010.359739,
          2010.386905,
          2010.4140710000001,
          2010.441237,
          2010.468403,
          2010.4955690000002,
          2010.5227350000002,
          2010.549902,
          2010.577068,
          2010.604234,
          2010.6314,
          2010.658566,
          2010.685732,
          2010.7128989999999,
          2010.740065,
          2010.7672309999998,
          2010.794397,
          2010.821563,
          2010.8487289999998,
          2010.875895,
          2010.903062,
          2010.9302280000002,
          2010.957394,
          2010.98456,
          2011.0117260000002,
          2011.0388920000003,
          2011.066059,
          2011.093225,
          2011.120391,
          2011.147557,
          2011.174723,
          2011.2018890000002,
          2011.229055,
          2011.256222,
          2011.2833879999998,
          2011.310554,
          2011.33772,
          2011.3648859999998,
          2011.392052,
          2011.419218,
          2011.4463850000002,
          2011.4735510000003,
          2011.5007170000001,
          2011.5278829999997,
          2011.5550489999998,
          2011.582215,
          2011.609382,
          2011.636548,
          2011.663714,
          2011.69088,
          2011.7180460000002,
          2011.745212,
          2011.7723780000001,
          2011.7995449999999,
          2011.826711,
          2011.853877,
          2011.8810429999999,
          2011.908209,
          2011.935375,
          2011.9625420000002,
          2011.9897079999998,
          2012.016828,
          2012.0439199999998,
          2012.071012,
          2012.098104,
          2012.1251949999998,
          2012.1522870000001,
          2012.179379,
          2012.2064710000002,
          2012.233563,
          2012.260655,
          2012.2877469999999,
          2012.3148390000001,
          2012.341931,
          2012.369023,
          2012.3961149999998,
          2012.423207,
          2012.4502989999999,
          2012.4773910000001,
          2012.504482,
          2012.5315739999999,
          2012.558666,
          2012.5857579999997,
          2012.61285,
          2012.6399420000002,
          2012.667034,
          2012.694126,
          2012.721218,
          2012.7483100000002,
          2012.775402,
          2012.802494,
          2012.8295859999998,
          2012.856677,
          2012.883769,
          2012.9108609999998,
          2012.937953,
          2012.965045,
          2012.9921370000002,
          2013.019282,
          2013.046448,
          2013.0736140000001,
          2013.10078,
          2013.127946,
          2013.1551129999998,
          2013.1822789999999,
          2013.209445,
          2013.236611,
          2013.263777,
          2013.290943,
          2013.318109,
          2013.3452760000002,
          2013.372442,
          2013.3996079999997,
          2013.4267739999998,
          2013.4539399999999,
          2013.481106,
          2013.5082719999998,
          2013.535439,
          2013.562605,
          2013.5897710000002,
          2013.616937,
          2013.644103,
          2013.6712690000002,
          2013.698436,
          2013.725602,
          2013.752768,
          2013.779934,
          2013.8071,
          2013.834266,
          2013.861432,
          2013.8885989999999,
          2013.9157649999997,
          2013.9429309999998,
          2013.970097,
          2013.997263,
          2014.0244289999998,
          2014.051596,
          2014.078762,
          2014.1059280000002,
          2014.133094,
          2014.16026,
          2014.1874260000002,
          2014.2145920000003,
          2014.241759,
          2014.268925,
          2014.296091,
          2014.323257,
          2014.350423,
          2014.3775890000002,
          2014.404756,
          2014.431922,
          2014.4590879999998,
          2014.486254,
          2014.51342,
          2014.5405859999998,
          2014.567752,
          2014.5949190000001,
          2014.6220850000002,
          2014.6492510000003,
          2014.6764170000001,
          2014.7035829999998,
          2014.7307489999998,
          2014.757915,
          2014.785082,
          2014.812248,
          2014.839414,
          2014.86658,
          2014.8937460000002,
          2014.920912,
          2014.948079,
          2014.9752449999999,
          2015.002411,
          2015.029577,
          2015.0567429999999,
          2015.083909,
          2015.111075,
          2015.1382420000002,
          2015.1654079999998,
          2015.192574,
          2015.2197399999998,
          2015.2469059999999,
          2015.274072,
          2015.3012390000001,
          2015.328405,
          2015.355571,
          2015.3827370000001,
          2015.4099030000002,
          2015.437069,
          2015.4642350000001,
          2015.4914019999999,
          2015.518568,
          2015.545734,
          2015.5729,
          2015.600066,
          2015.627232,
          2015.6543989999998,
          2015.6815649999999,
          2015.708731,
          2015.7358969999998,
          2015.7630629999999,
          2015.790229,
          2015.817395,
          2015.844562,
          2015.871728,
          2015.8988940000002,
          2015.9260600000002,
          2015.953226,
          2015.9803920000002,
          2016.0075379999998,
          2016.03463,
          2016.061722,
          2016.088814,
          2016.1159059999998,
          2016.142997,
          2016.170089,
          2016.1971809999998,
          2016.224273,
          2016.2513649999999,
          2016.2784570000001,
          2016.305549,
          2016.332641,
          2016.3597329999998,
          2016.386825,
          2016.413917,
          2016.441009,
          2016.4681010000002,
          2016.495193,
          2016.522284,
          2016.5493760000002,
          2016.576468,
          2016.6035600000002,
          2016.630652,
          2016.657744,
          2016.684836,
          2016.7119280000002,
          2016.73902,
          2016.766112,
          2016.7932039999998,
          2016.820296,
          2016.847388,
          2016.8744800000002,
          2016.901571,
          2016.928663,
          2016.9557550000002,
          2016.982847,
          2017.009966,
          2017.0371329999998,
          2017.064299,
          2017.0914649999997,
          2017.1186309999998,
          2017.145797,
          2017.172963,
          2017.2001289999998,
          2017.227296,
          2017.254462,
          2017.2816280000002,
          2017.308794,
          2017.3359600000001,
          2017.3631260000002,
          2017.390293,
          2017.417459,
          2017.444625,
          2017.471791,
          2017.498957,
          2017.526123,
          2017.553289,
          2017.580456,
          2017.607622,
          2017.6347879999998,
          2017.661954,
          2017.68912,
          2017.7162859999999,
          2017.743453,
          2017.7706190000001,
          2017.7977850000002,
          2017.824951,
          2017.8521170000001,
          2017.8792829999998,
          2017.9064489999998,
          2017.933616,
          2017.960782,
          2017.987948,
          2018.015114,
          2018.0422800000001,
          2018.0694460000002,
          2018.096613,
          2018.123779,
          2018.1509449999999,
          2018.178111,
          2018.205277,
          2018.2324429999999,
          2018.259609,
          2018.2867760000001,
          2018.3139420000002,
          2018.3411079999998,
          2018.368274,
          2018.3954399999998,
          2018.4226059999999,
          2018.449772,
          2018.4769390000001,
          2018.504105,
          2018.531271,
          2018.5584370000001,
          2018.5856030000002,
          2018.612769,
          2018.639936,
          2018.6671019999999,
          2018.694268,
          2018.721434,
          2018.7486,
          2018.775766,
          2018.802932,
          2018.8300989999998,
          2018.8572649999999,
          2018.884431,
          2018.9115969999998,
          2018.9387629999999,
          2018.965929,
          2018.9930960000002,
          2019.020262,
          2019.047428,
          2019.0745940000002,
          2019.1017600000002,
          2019.128926,
          2019.1560920000002,
          2019.183259,
          2019.210425,
          2019.237591,
          2019.264757,
          2019.291923,
          2019.319089,
          2019.3462559999998,
          2019.373422,
          2019.400588,
          2019.4277539999998,
          2019.45492,
          2019.482086,
          2019.509252,
          2019.536419,
          2019.563585
         ],
         "xaxis": "x",
         "y": [
          -37.55,
          -38.06,
          -37.6,
          -37.45,
          -36.44,
          -35.31,
          -34.28,
          -33.5,
          -32.94,
          -32.6,
          -32.45,
          -32.47,
          -32.63,
          -32.69,
          -32.84,
          -32.53,
          -32.43,
          -32.32,
          -32.5,
          -32.85,
          -33.15,
          -33.24,
          -33.28,
          -33.43,
          -33.68,
          -33.96,
          -34.16,
          -34.07,
          -33.92,
          -33.91,
          -34.16,
          -34.41,
          -34.23,
          -33.52,
          -32.46,
          -31.38,
          -31.01,
          -30.41,
          -30.24,
          -30.61,
          -31.11,
          -31.4,
          -31.16,
          -30.26,
          -29.02,
          -28.1,
          -27.84,
          -28.39,
          -28.69,
          -29.33,
          -29.6,
          -30.06,
          -30.06,
          -29.95,
          -29.87,
          -29.87,
          -29.95,
          -30.09,
          -30.24,
          -30.34,
          -30.3,
          -30.39,
          -30.29,
          -30.29,
          -30.24,
          -30.08,
          -29.93,
          -29.94,
          -30.06,
          -29.9,
          -29.12,
          -27.85,
          -26.46,
          -25.61,
          -25,
          -24.65,
          -24.97,
          -25.45,
          -25.77,
          -25.58,
          -25.49,
          -25.34,
          -25.45,
          -25.64,
          -25.77,
          -25.73,
          -25.7,
          -25.67,
          -25.62,
          -25.73,
          -26.08,
          -26.67,
          -27.08,
          -27.83,
          -28.1,
          -28.1,
          -27.52,
          -27.18,
          -26.6,
          -25.8,
          -25.94,
          -25.57,
          -25.93,
          -26.28,
          -26.31,
          -25.96,
          -25.41,
          -24.95,
          -25.13,
          -25.32,
          -25.64,
          -26.34,
          -26.79,
          -26.43,
          -26.33,
          -25.74,
          -25.36,
          -25.27,
          -25.33,
          -25.39,
          -25.16,
          -24.81,
          -24.34,
          -23.64,
          -23.05,
          -22.62,
          -22.36,
          -22.13,
          -21.89,
          -21.69,
          -21.67,
          -21.93,
          -22.6,
          -23.27,
          -24.05,
          -24.34,
          -24.12,
          -23.45,
          -22.46,
          -21.4,
          -20.76,
          -20.76,
          -21.29,
          -22.12,
          -23,
          -23.62,
          -24.32,
          -24.68,
          -24.81,
          -24.78,
          -24.73,
          -24.7,
          -24.61,
          -24.3,
          -23.82,
          -23.26,
          -22.91,
          -22.55,
          -22.24,
          -21.86,
          -21.29,
          -20.67,
          -20.21,
          -19.9,
          -19.67,
          -19.34,
          -18.93,
          -18.48,
          -17.89,
          -17.41,
          -16.95,
          -16.64,
          -16.46,
          -16.28,
          -16.05,
          -16.25,
          -16.03,
          -16.35,
          -16.82,
          -17.61,
          -18.04,
          -18.7,
          -19.34,
          -19.76,
          -19.89,
          -19.79,
          -19.6,
          -19.44,
          -19.31,
          -19.13,
          -18.87,
          -18.54,
          -18.3,
          -17.99,
          -17.97,
          -18.2,
          -18.7,
          -19.48,
          -20.27,
          -21.22,
          -21.69,
          -21.96,
          -22.24,
          -22.7,
          -23.23,
          -23.98,
          -24.31,
          -24.86,
          -25.08,
          -25.23,
          -25.32,
          -25.44,
          -25.19,
          -24.97,
          -24.83,
          -24.76,
          -24.79,
          -24.55,
          -24.34,
          -24.04,
          -23.81,
          -23.5,
          -23.05,
          -22.3,
          -21.23,
          -20.15,
          -19.21,
          -18.66,
          -18.38,
          -18.32,
          -18.18,
          -18.16,
          -18.22,
          -18.37,
          -18.58,
          -18.82,
          -19.05,
          -19.18,
          -19.02,
          -19.14,
          -19.2,
          -19.39,
          -19.6,
          -19.64,
          -19.3,
          -18.58,
          -17.79,
          -17.21,
          -17.05,
          -16.6,
          -16.44,
          -16.46,
          -16.18,
          -15.91,
          -15.55,
          -15.2,
          -14.96,
          -14.86,
          -14.94,
          -15.18,
          -15.42,
          -15.61,
          -15.87,
          -15.69,
          -15.36,
          -15.07,
          -15,
          -15.26,
          -15.74,
          -16.17,
          -16.48,
          -16.62,
          -16.83,
          -16.88,
          -17.12,
          -17.27,
          -17.41,
          -17.47,
          -17.38,
          -17.13,
          -16.79,
          -16.3,
          -16.02,
          -15.42,
          -14.9,
          -14,
          -13.48,
          -13.27,
          -13.39,
          -13.91,
          -14.06,
          -14.28,
          -14.29,
          -14.09,
          -13.66,
          -13.43,
          -13.12,
          -12.77,
          -12.27,
          -11.66,
          -11.08,
          -10.65,
          -10.48,
          -10.22,
          -10.1,
          -10.12,
          -10.34,
          -10.71,
          -11.04,
          -11.13,
          -10.86,
          -10.25,
          -9.51,
          -8.93,
          -8.68,
          -8.76,
          -8.94,
          -8.97,
          -8.69,
          -8.13,
          -7.55,
          -7.29,
          -7.52,
          -8.01,
          -8.44,
          -8.62,
          -8.74,
          -8.98,
          -9.32,
          -9.62,
          -9.73,
          -9.63,
          -9.35,
          -8.88,
          -8.33,
          -7.89,
          -7.69,
          -7.78,
          -8.03,
          -8.26,
          -8.38,
          -8.46,
          -8.54,
          -8.62,
          -8.72,
          -8.84,
          -8.94,
          -8.88,
          -8.46,
          -7.69,
          -6.72,
          -5.75,
          -4.98,
          -4.55,
          -4.52,
          -4.77,
          -5.09,
          -5.26,
          -5.17,
          -4.86,
          -4.44,
          -4.15,
          -4.11,
          -4.32,
          -4.63,
          -4.9,
          -5.03,
          -4.98,
          -4.67,
          -4.09,
          -3.44,
          -2.99,
          -2.93,
          -3.17,
          -3.43,
          -3.48,
          -3.36,
          -3.25,
          -3.23,
          -3.32,
          -3.44,
          -3.55,
          -3.69,
          -3.88,
          -4.06,
          -4.12,
          -4.04,
          -3.89,
          -3.76,
          -3.68,
          -3.6,
          -3.41,
          -3.14,
          -2.87,
          -2.66,
          -2.48,
          -2.34,
          -2.37,
          -2.63,
          -3.04,
          -3.33,
          -3.24,
          -2.76,
          -2.09,
          -1.41,
          -0.85,
          -0.59,
          -0.75,
          -1.26,
          -1.78,
          -1.99,
          -1.83,
          -1.47,
          -1.16,
          -1.03,
          -1.22,
          -1.77,
          -2.55,
          -3.31,
          -3.76,
          -3.73,
          -3.23,
          -2.48,
          -1.77,
          -1.36,
          -1.28,
          -1.32,
          -1.24,
          -1,
          -0.65,
          -0.39,
          -0.29,
          -0.41,
          -0.68,
          -1,
          -1.21,
          -1.22,
          -0.95,
          -0.4,
          0.27,
          0.82,
          1.11,
          1.2,
          1.37,
          1.77,
          2.37,
          2.99,
          3.44,
          3.58,
          3.42,
          3.11,
          2.83,
          2.7,
          2.68,
          2.76,
          2.92,
          3.13,
          3.37,
          3.58,
          3.74,
          3.84,
          3.78,
          3.56,
          3.28,
          3.09,
          3.1,
          3.31,
          3.57,
          3.72,
          3.67,
          3.57,
          3.68,
          4.16,
          4.91,
          5.61,
          6.03,
          6.04,
          5.67,
          5.06,
          4.35,
          3.76,
          3.4,
          3.28,
          3.3,
          3.32,
          3.24,
          3.08,
          2.93,
          2.83,
          2.83,
          3.02,
          3.42,
          3.98,
          4.57,
          5.12,
          5.66,
          6.17,
          6.55,
          6.62,
          6.33,
          5.87,
          5.56,
          5.63,
          5.99,
          6.36,
          6.51,
          6.48,
          6.43,
          6.48,
          6.53,
          6.14,
          5.95,
          5.9,
          5.88,
          5.8,
          5.7,
          5.47,
          5.4,
          5.52,
          5.75,
          6,
          6.16,
          6.27,
          6.39,
          6.5,
          6.47,
          6.29,
          6.07,
          5.95,
          5.99,
          6.07,
          6.1,
          5.99,
          5.73,
          5.42,
          5.16,
          4.97,
          4.77,
          4.45,
          4.11,
          3.92,
          3.97,
          4.27,
          4.77,
          5.47,
          6.34,
          7.14,
          7.59,
          7.51,
          6.97,
          6.34,
          5.91,
          5.76,
          5.73,
          5.67,
          5.61,
          5.64,
          5.79,
          5.93,
          5.9,
          5.69,
          5.43,
          5.41,
          5.88,
          6.94,
          8.36,
          9.74,
          10.71,
          11.18,
          11.18,
          10.91,
          10.49,
          10.05,
          9.65,
          9.33,
          9.08,
          8.91,
          8.84,
          8.91,
          9.11,
          9.36,
          9.63,
          9.94,
          10.3,
          10.64,
          10.79,
          10.65,
          10.37,
          10.08,
          9.91,
          9.85,
          9.88,
          10.05,
          10.42,
          10.88,
          11.33,
          11.63,
          11.78,
          11.8,
          11.8,
          11.81,
          11.86,
          11.95,
          12.08,
          12.22,
          12.37,
          12.54,
          12.81,
          13.23,
          13.7,
          14.13,
          14.55,
          15.05,
          15.63,
          16.19,
          16.61,
          16.92,
          17.15,
          17.29,
          17.28,
          17.13,
          16.87,
          16.58,
          16.29,
          15.95,
          15.53,
          15.1,
          14.91,
          15.15,
          15.75,
          16.33,
          16.49,
          16.22,
          15.81,
          15.61,
          15.73,
          16.08,
          16.61,
          17.27,
          17.95,
          18.49,
          18.78,
          18.74,
          18.38,
          17.77,
          16.96,
          16.03,
          15.04,
          14.11,
          13.36,
          12.85,
          12.57,
          12.48,
          12.52,
          12.59,
          12.52,
          12.24,
          11.82,
          11.44,
          11.25,
          11.29,
          11.42,
          11.54,
          11.56,
          11.51,
          11.39,
          11.22,
          10.97,
          10.65,
          10.32,
          10.09,
          10.07,
          10.25,
          10.65,
          11.26,
          12.08,
          13.03,
          13.94,
          14.66,
          15.07,
          15.18,
          15.2,
          15.38,
          15.79,
          16.29,
          16.65,
          16.72,
          16.62,
          16.56,
          16.64,
          16.73,
          16.65,
          16.42,
          16.3,
          16.52,
          17.07,
          17.82,
          18.66,
          19.52,
          20.31,
          20.96,
          21.35,
          21.44,
          21.31,
          21.08,
          20.9,
          20.89,
          21.05,
          21.32,
          21.65,
          22.01,
          22.38,
          22.83,
          23.39,
          24.08,
          24.86,
          25.63,
          26.38,
          27.01,
          27.35,
          27.33,
          27.05,
          26.81,
          26.81,
          27.1,
          27.5,
          27.8,
          27.91,
          27.88,
          27.84,
          27.93,
          28.18,
          28.54,
          28.92,
          29.23,
          29.47,
          29.64,
          29.77,
          29.84,
          29.86,
          29.87,
          29.85,
          29.78,
          29.59,
          29.27,
          28.87,
          28.49,
          28.14,
          27.75,
          27.3,
          26.85,
          26.52,
          26.36,
          26.37,
          26.48,
          26.57,
          26.51,
          26.22,
          25.81,
          25.51,
          25.47,
          25.67,
          26.03,
          26.47,
          26.95,
          27.41,
          27.75,
          27.87,
          27.8,
          27.63,
          27.55,
          27.66,
          27.98,
          28.41,
          28.92,
          29.48,
          30.11,
          30.68,
          31.04,
          31.14,
          30.97,
          30.56,
          29.97,
          29.32,
          28.76,
          28.47,
          28.49,
          28.8,
          29.38,
          30.15,
          30.98,
          31.71,
          32.23,
          32.51,
          32.61,
          32.54,
          32.32,
          32.03,
          31.84,
          31.89,
          32.11,
          32.31,
          32.27,
          32.08,
          32.02,
          32.39,
          33.16,
          33.98,
          34.57,
          34.98,
          35.46,
          36.19,
          37.1,
          37.95,
          38.51,
          38.76,
          38.79,
          38.8,
          38.87,
          38.93,
          38.91,
          38.84,
          38.89,
          39.27,
          40.03,
          41.03,
          42.04,
          42.87,
          43.47,
          43.85,
          44.1,
          44.34,
          44.63,
          44.96,
          45.26,
          45.49,
          45.71,
          45.94,
          46.09,
          46.07,
          45.87,
          45.59,
          45.28,
          44.91,
          44.56,
          44.45,
          44.72,
          45.32,
          46.02,
          46.59,
          46.95,
          47.17,
          47.27,
          47.22,
          46.94,
          46.36,
          45.55,
          44.71,
          44.12,
          43.99,
          44.34,
          44.96,
          45.55,
          45.78,
          45.51,
          44.8,
          43.85,
          42.92,
          42.32,
          42.15,
          42.25,
          42.33,
          42.26,
          42.13,
          42.27,
          42.83,
          43.74,
          44.71,
          45.43,
          45.7,
          45.49,
          44.98,
          44.36,
          43.77,
          43.24,
          42.79,
          42.55,
          42.58,
          42.91,
          43.48,
          44.14,
          44.75,
          45.15,
          45.24,
          45.07,
          44.77,
          44.54,
          44.52,
          44.71,
          45.03,
          45.35,
          45.66,
          46,
          46.4,
          46.79,
          47.11,
          47.37,
          47.51,
          47.51,
          47.38,
          47.25,
          47.34,
          47.75,
          48.41,
          49.16,
          49.78,
          50.15,
          50.14,
          49.78,
          49.27,
          48.87,
          48.71,
          48.73,
          48.73,
          48.63,
          48.41,
          48.13,
          47.77,
          47.37,
          47.11,
          47.14,
          47.48,
          47.96,
          48.42,
          48.75,
          48.92,
          48.98,
          49.05,
          49.24,
          49.53,
          49.79,
          49.98,
          50.19,
          50.56,
          51.11,
          51.74,
          52.32,
          52.77,
          53.04,
          53.07,
          52.83,
          52.37,
          51.85,
          51.46,
          51.31,
          51.47,
          51.89,
          52.49,
          53.09,
          53.55,
          53.84,
          54.06,
          54.36,
          54.75,
          55.11,
          55.34,
          55.54,
          55.83,
          56.24,
          56.58,
          56.73,
          56.77,
          56.95,
          57.09,
          57.01,
          56.67,
          56.07,
          55.24
         ],
         "yaxis": "y2"
        }
       ],
       "layout": {
        "plot_bgcolor": "rgba(0,0,0,0)",
        "template": {
         "data": {
          "bar": [
           {
            "error_x": {
             "color": "#2a3f5f"
            },
            "error_y": {
             "color": "#2a3f5f"
            },
            "marker": {
             "line": {
              "color": "#E5ECF6",
              "width": 0.5
             }
            },
            "type": "bar"
           }
          ],
          "barpolar": [
           {
            "marker": {
             "line": {
              "color": "#E5ECF6",
              "width": 0.5
             }
            },
            "type": "barpolar"
           }
          ],
          "carpet": [
           {
            "aaxis": {
             "endlinecolor": "#2a3f5f",
             "gridcolor": "white",
             "linecolor": "white",
             "minorgridcolor": "white",
             "startlinecolor": "#2a3f5f"
            },
            "baxis": {
             "endlinecolor": "#2a3f5f",
             "gridcolor": "white",
             "linecolor": "white",
             "minorgridcolor": "white",
             "startlinecolor": "#2a3f5f"
            },
            "type": "carpet"
           }
          ],
          "choropleth": [
           {
            "colorbar": {
             "outlinewidth": 0,
             "ticks": ""
            },
            "type": "choropleth"
           }
          ],
          "contour": [
           {
            "colorbar": {
             "outlinewidth": 0,
             "ticks": ""
            },
            "colorscale": [
             [
              0,
              "#0d0887"
             ],
             [
              0.1111111111111111,
              "#46039f"
             ],
             [
              0.2222222222222222,
              "#7201a8"
             ],
             [
              0.3333333333333333,
              "#9c179e"
             ],
             [
              0.4444444444444444,
              "#bd3786"
             ],
             [
              0.5555555555555556,
              "#d8576b"
             ],
             [
              0.6666666666666666,
              "#ed7953"
             ],
             [
              0.7777777777777778,
              "#fb9f3a"
             ],
             [
              0.8888888888888888,
              "#fdca26"
             ],
             [
              1,
              "#f0f921"
             ]
            ],
            "type": "contour"
           }
          ],
          "contourcarpet": [
           {
            "colorbar": {
             "outlinewidth": 0,
             "ticks": ""
            },
            "type": "contourcarpet"
           }
          ],
          "heatmap": [
           {
            "colorbar": {
             "outlinewidth": 0,
             "ticks": ""
            },
            "colorscale": [
             [
              0,
              "#0d0887"
             ],
             [
              0.1111111111111111,
              "#46039f"
             ],
             [
              0.2222222222222222,
              "#7201a8"
             ],
             [
              0.3333333333333333,
              "#9c179e"
             ],
             [
              0.4444444444444444,
              "#bd3786"
             ],
             [
              0.5555555555555556,
              "#d8576b"
             ],
             [
              0.6666666666666666,
              "#ed7953"
             ],
             [
              0.7777777777777778,
              "#fb9f3a"
             ],
             [
              0.8888888888888888,
              "#fdca26"
             ],
             [
              1,
              "#f0f921"
             ]
            ],
            "type": "heatmap"
           }
          ],
          "heatmapgl": [
           {
            "colorbar": {
             "outlinewidth": 0,
             "ticks": ""
            },
            "colorscale": [
             [
              0,
              "#0d0887"
             ],
             [
              0.1111111111111111,
              "#46039f"
             ],
             [
              0.2222222222222222,
              "#7201a8"
             ],
             [
              0.3333333333333333,
              "#9c179e"
             ],
             [
              0.4444444444444444,
              "#bd3786"
             ],
             [
              0.5555555555555556,
              "#d8576b"
             ],
             [
              0.6666666666666666,
              "#ed7953"
             ],
             [
              0.7777777777777778,
              "#fb9f3a"
             ],
             [
              0.8888888888888888,
              "#fdca26"
             ],
             [
              1,
              "#f0f921"
             ]
            ],
            "type": "heatmapgl"
           }
          ],
          "histogram": [
           {
            "marker": {
             "colorbar": {
              "outlinewidth": 0,
              "ticks": ""
             }
            },
            "type": "histogram"
           }
          ],
          "histogram2d": [
           {
            "colorbar": {
             "outlinewidth": 0,
             "ticks": ""
            },
            "colorscale": [
             [
              0,
              "#0d0887"
             ],
             [
              0.1111111111111111,
              "#46039f"
             ],
             [
              0.2222222222222222,
              "#7201a8"
             ],
             [
              0.3333333333333333,
              "#9c179e"
             ],
             [
              0.4444444444444444,
              "#bd3786"
             ],
             [
              0.5555555555555556,
              "#d8576b"
             ],
             [
              0.6666666666666666,
              "#ed7953"
             ],
             [
              0.7777777777777778,
              "#fb9f3a"
             ],
             [
              0.8888888888888888,
              "#fdca26"
             ],
             [
              1,
              "#f0f921"
             ]
            ],
            "type": "histogram2d"
           }
          ],
          "histogram2dcontour": [
           {
            "colorbar": {
             "outlinewidth": 0,
             "ticks": ""
            },
            "colorscale": [
             [
              0,
              "#0d0887"
             ],
             [
              0.1111111111111111,
              "#46039f"
             ],
             [
              0.2222222222222222,
              "#7201a8"
             ],
             [
              0.3333333333333333,
              "#9c179e"
             ],
             [
              0.4444444444444444,
              "#bd3786"
             ],
             [
              0.5555555555555556,
              "#d8576b"
             ],
             [
              0.6666666666666666,
              "#ed7953"
             ],
             [
              0.7777777777777778,
              "#fb9f3a"
             ],
             [
              0.8888888888888888,
              "#fdca26"
             ],
             [
              1,
              "#f0f921"
             ]
            ],
            "type": "histogram2dcontour"
           }
          ],
          "mesh3d": [
           {
            "colorbar": {
             "outlinewidth": 0,
             "ticks": ""
            },
            "type": "mesh3d"
           }
          ],
          "parcoords": [
           {
            "line": {
             "colorbar": {
              "outlinewidth": 0,
              "ticks": ""
             }
            },
            "type": "parcoords"
           }
          ],
          "scatter": [
           {
            "marker": {
             "colorbar": {
              "outlinewidth": 0,
              "ticks": ""
             }
            },
            "type": "scatter"
           }
          ],
          "scatter3d": [
           {
            "line": {
             "colorbar": {
              "outlinewidth": 0,
              "ticks": ""
             }
            },
            "marker": {
             "colorbar": {
              "outlinewidth": 0,
              "ticks": ""
             }
            },
            "type": "scatter3d"
           }
          ],
          "scattercarpet": [
           {
            "marker": {
             "colorbar": {
              "outlinewidth": 0,
              "ticks": ""
             }
            },
            "type": "scattercarpet"
           }
          ],
          "scattergeo": [
           {
            "marker": {
             "colorbar": {
              "outlinewidth": 0,
              "ticks": ""
             }
            },
            "type": "scattergeo"
           }
          ],
          "scattergl": [
           {
            "marker": {
             "colorbar": {
              "outlinewidth": 0,
              "ticks": ""
             }
            },
            "type": "scattergl"
           }
          ],
          "scattermapbox": [
           {
            "marker": {
             "colorbar": {
              "outlinewidth": 0,
              "ticks": ""
             }
            },
            "type": "scattermapbox"
           }
          ],
          "scatterpolar": [
           {
            "marker": {
             "colorbar": {
              "outlinewidth": 0,
              "ticks": ""
             }
            },
            "type": "scatterpolar"
           }
          ],
          "scatterpolargl": [
           {
            "marker": {
             "colorbar": {
              "outlinewidth": 0,
              "ticks": ""
             }
            },
            "type": "scatterpolargl"
           }
          ],
          "scatterternary": [
           {
            "marker": {
             "colorbar": {
              "outlinewidth": 0,
              "ticks": ""
             }
            },
            "type": "scatterternary"
           }
          ],
          "surface": [
           {
            "colorbar": {
             "outlinewidth": 0,
             "ticks": ""
            },
            "colorscale": [
             [
              0,
              "#0d0887"
             ],
             [
              0.1111111111111111,
              "#46039f"
             ],
             [
              0.2222222222222222,
              "#7201a8"
             ],
             [
              0.3333333333333333,
              "#9c179e"
             ],
             [
              0.4444444444444444,
              "#bd3786"
             ],
             [
              0.5555555555555556,
              "#d8576b"
             ],
             [
              0.6666666666666666,
              "#ed7953"
             ],
             [
              0.7777777777777778,
              "#fb9f3a"
             ],
             [
              0.8888888888888888,
              "#fdca26"
             ],
             [
              1,
              "#f0f921"
             ]
            ],
            "type": "surface"
           }
          ],
          "table": [
           {
            "cells": {
             "fill": {
              "color": "#EBF0F8"
             },
             "line": {
              "color": "white"
             }
            },
            "header": {
             "fill": {
              "color": "#C8D4E3"
             },
             "line": {
              "color": "white"
             }
            },
            "type": "table"
           }
          ]
         },
         "layout": {
          "annotationdefaults": {
           "arrowcolor": "#2a3f5f",
           "arrowhead": 0,
           "arrowwidth": 1
          },
          "colorscale": {
           "diverging": [
            [
             0,
             "#8e0152"
            ],
            [
             0.1,
             "#c51b7d"
            ],
            [
             0.2,
             "#de77ae"
            ],
            [
             0.3,
             "#f1b6da"
            ],
            [
             0.4,
             "#fde0ef"
            ],
            [
             0.5,
             "#f7f7f7"
            ],
            [
             0.6,
             "#e6f5d0"
            ],
            [
             0.7,
             "#b8e186"
            ],
            [
             0.8,
             "#7fbc41"
            ],
            [
             0.9,
             "#4d9221"
            ],
            [
             1,
             "#276419"
            ]
           ],
           "sequential": [
            [
             0,
             "#0d0887"
            ],
            [
             0.1111111111111111,
             "#46039f"
            ],
            [
             0.2222222222222222,
             "#7201a8"
            ],
            [
             0.3333333333333333,
             "#9c179e"
            ],
            [
             0.4444444444444444,
             "#bd3786"
            ],
            [
             0.5555555555555556,
             "#d8576b"
            ],
            [
             0.6666666666666666,
             "#ed7953"
            ],
            [
             0.7777777777777778,
             "#fb9f3a"
            ],
            [
             0.8888888888888888,
             "#fdca26"
            ],
            [
             1,
             "#f0f921"
            ]
           ],
           "sequentialminus": [
            [
             0,
             "#0d0887"
            ],
            [
             0.1111111111111111,
             "#46039f"
            ],
            [
             0.2222222222222222,
             "#7201a8"
            ],
            [
             0.3333333333333333,
             "#9c179e"
            ],
            [
             0.4444444444444444,
             "#bd3786"
            ],
            [
             0.5555555555555556,
             "#d8576b"
            ],
            [
             0.6666666666666666,
             "#ed7953"
            ],
            [
             0.7777777777777778,
             "#fb9f3a"
            ],
            [
             0.8888888888888888,
             "#fdca26"
            ],
            [
             1,
             "#f0f921"
            ]
           ]
          },
          "colorway": [
           "#636efa",
           "#EF553B",
           "#00cc96",
           "#ab63fa",
           "#FFA15A",
           "#19d3f3",
           "#FF6692",
           "#B6E880",
           "#FF97FF",
           "#FECB52"
          ],
          "font": {
           "color": "#2a3f5f"
          },
          "geo": {
           "bgcolor": "white",
           "lakecolor": "white",
           "landcolor": "#E5ECF6",
           "showlakes": true,
           "showland": true,
           "subunitcolor": "white"
          },
          "hoverlabel": {
           "align": "left"
          },
          "hovermode": "closest",
          "mapbox": {
           "style": "light"
          },
          "paper_bgcolor": "white",
          "plot_bgcolor": "#E5ECF6",
          "polar": {
           "angularaxis": {
            "gridcolor": "white",
            "linecolor": "white",
            "ticks": ""
           },
           "bgcolor": "#E5ECF6",
           "radialaxis": {
            "gridcolor": "white",
            "linecolor": "white",
            "ticks": ""
           }
          },
          "scene": {
           "xaxis": {
            "backgroundcolor": "#E5ECF6",
            "gridcolor": "white",
            "gridwidth": 2,
            "linecolor": "white",
            "showbackground": true,
            "ticks": "",
            "zerolinecolor": "white"
           },
           "yaxis": {
            "backgroundcolor": "#E5ECF6",
            "gridcolor": "white",
            "gridwidth": 2,
            "linecolor": "white",
            "showbackground": true,
            "ticks": "",
            "zerolinecolor": "white"
           },
           "zaxis": {
            "backgroundcolor": "#E5ECF6",
            "gridcolor": "white",
            "gridwidth": 2,
            "linecolor": "white",
            "showbackground": true,
            "ticks": "",
            "zerolinecolor": "white"
           }
          },
          "shapedefaults": {
           "line": {
            "color": "#2a3f5f"
           }
          },
          "ternary": {
           "aaxis": {
            "gridcolor": "white",
            "linecolor": "white",
            "ticks": ""
           },
           "baxis": {
            "gridcolor": "white",
            "linecolor": "white",
            "ticks": ""
           },
           "bgcolor": "#E5ECF6",
           "caxis": {
            "gridcolor": "white",
            "linecolor": "white",
            "ticks": ""
           }
          },
          "title": {
           "x": 0.05
          },
          "xaxis": {
           "automargin": true,
           "gridcolor": "white",
           "linecolor": "white",
           "ticks": "",
           "zerolinecolor": "white",
           "zerolinewidth": 2
          },
          "yaxis": {
           "automargin": true,
           "gridcolor": "white",
           "linecolor": "white",
           "ticks": "",
           "zerolinecolor": "white",
           "zerolinewidth": 2
          }
         }
        },
        "title": {
         "text": "<b>CO2 and Sea Level since 1993</b>"
        },
        "xaxis": {
         "anchor": "y",
         "domain": [
          0,
          0.94
         ],
         "gridcolor": "rgb(159, 197, 232)",
         "title": {
          "text": "<b>Year</b>"
         }
        },
        "yaxis": {
         "anchor": "x",
         "domain": [
          0,
          1
         ],
         "showgrid": false,
         "title": {
          "text": "<b>CO2 level (ppm)</b> "
         }
        },
        "yaxis2": {
         "anchor": "x",
         "gridcolor": "rgb(159, 197, 232)",
         "overlaying": "y",
         "side": "right",
         "title": {
          "text": "<b>Sea level (mm)</b>"
         },
         "zerolinecolor": "rgb(74, 134, 232)"
        }
       }
      },
      "text/html": [
       "<div>\n",
       "        \n",
       "        \n",
       "            <div id=\"1e603191-e7fa-45d8-b2fa-d3d9de199642\" class=\"plotly-graph-div\" style=\"height:525px; width:100%;\"></div>\n",
       "            <script type=\"text/javascript\">\n",
       "                require([\"plotly\"], function(Plotly) {\n",
       "                    window.PLOTLYENV=window.PLOTLYENV || {};\n",
       "                    \n",
       "                if (document.getElementById(\"1e603191-e7fa-45d8-b2fa-d3d9de199642\")) {\n",
       "                    Plotly.newPlot(\n",
       "                        '1e603191-e7fa-45d8-b2fa-d3d9de199642',\n",
       "                        [{\"line\": {\"color\": \"blue\", \"width\": 3}, \"name\": \"CO2 level\", \"type\": \"scatter\", \"x\": [1993.0420000000001, 1993.125, 1993.2079999999999, 1993.2920000000001, 1993.375, 1993.4579999999999, 1993.5420000000001, 1993.625, 1993.7079999999999, 1993.7920000000001, 1993.875, 1993.9579999999999, 1994.0420000000001, 1994.125, 1994.2079999999999, 1994.2920000000001, 1994.375, 1994.4579999999999, 1994.5420000000001, 1994.625, 1994.7079999999999, 1994.7920000000001, 1994.875, 1994.9579999999999, 1995.0420000000001, 1995.125, 1995.2079999999999, 1995.2920000000001, 1995.375, 1995.4579999999999, 1995.5420000000001, 1995.625, 1995.7079999999999, 1995.7920000000001, 1995.875, 1995.9579999999999, 1996.0420000000001, 1996.125, 1996.2079999999999, 1996.2920000000001, 1996.375, 1996.4579999999999, 1996.5420000000001, 1996.625, 1996.7079999999999, 1996.7920000000001, 1996.875, 1996.9579999999999, 1997.0420000000001, 1997.125, 1997.2079999999999, 1997.2920000000001, 1997.375, 1997.4579999999999, 1997.5420000000001, 1997.625, 1997.7079999999999, 1997.7920000000001, 1997.875, 1997.9579999999999, 1998.0420000000001, 1998.125, 1998.2079999999999, 1998.2920000000001, 1998.375, 1998.4579999999999, 1998.5420000000001, 1998.625, 1998.7079999999999, 1998.7920000000001, 1998.875, 1998.9579999999999, 1999.0420000000001, 1999.125, 1999.2079999999999, 1999.2920000000001, 1999.375, 1999.4579999999999, 1999.5420000000001, 1999.625, 1999.7079999999999, 1999.7920000000001, 1999.875, 1999.9579999999999, 2000.0420000000001, 2000.125, 2000.2079999999999, 2000.2920000000001, 2000.375, 2000.4579999999999, 2000.5420000000001, 2000.625, 2000.7079999999999, 2000.7920000000001, 2000.875, 2000.9579999999999, 2001.0420000000001, 2001.125, 2001.2079999999999, 2001.2920000000001, 2001.375, 2001.4579999999999, 2001.5420000000001, 2001.625, 2001.7079999999999, 2001.7920000000001, 2001.875, 2001.9579999999999, 2002.0420000000001, 2002.125, 2002.2079999999999, 2002.2920000000001, 2002.375, 2002.4579999999999, 2002.5420000000001, 2002.625, 2002.7079999999999, 2002.7920000000001, 2002.875, 2002.9579999999999, 2003.0420000000001, 2003.125, 2003.2079999999999, 2003.2920000000001, 2003.375, 2003.4579999999999, 2003.5420000000001, 2003.625, 2003.7079999999999, 2003.7920000000001, 2003.875, 2003.9579999999999, 2004.0420000000001, 2004.125, 2004.2079999999999, 2004.2920000000001, 2004.375, 2004.4579999999999, 2004.5420000000001, 2004.625, 2004.7079999999999, 2004.7920000000001, 2004.875, 2004.9579999999999, 2005.0420000000001, 2005.125, 2005.2079999999999, 2005.2920000000001, 2005.375, 2005.4579999999999, 2005.5420000000001, 2005.625, 2005.7079999999999, 2005.7920000000001, 2005.875, 2005.9579999999999, 2006.0420000000001, 2006.125, 2006.2079999999999, 2006.2920000000001, 2006.375, 2006.4579999999999, 2006.5420000000001, 2006.625, 2006.7079999999999, 2006.7920000000001, 2006.875, 2006.9579999999999, 2007.0420000000001, 2007.125, 2007.2079999999999, 2007.2920000000001, 2007.375, 2007.4579999999999, 2007.5420000000001, 2007.625, 2007.7079999999999, 2007.7920000000001, 2007.875, 2007.9579999999999, 2008.0420000000001, 2008.125, 2008.2079999999999, 2008.2920000000001, 2008.375, 2008.4579999999999, 2008.5420000000001, 2008.625, 2008.7079999999999, 2008.7920000000001, 2008.875, 2008.9579999999999, 2009.0420000000001, 2009.125, 2009.2079999999999, 2009.2920000000001, 2009.375, 2009.4579999999999, 2009.5420000000001, 2009.625, 2009.7079999999999, 2009.7920000000001, 2009.875, 2009.9579999999999, 2010.0420000000001, 2010.125, 2010.2079999999999, 2010.2920000000001, 2010.375, 2010.4579999999999, 2010.5420000000001, 2010.625, 2010.7079999999999, 2010.7920000000001, 2010.875, 2010.9579999999999, 2011.0420000000001, 2011.125, 2011.2079999999999, 2011.2920000000001, 2011.375, 2011.4579999999999, 2011.5420000000001, 2011.625, 2011.7079999999999, 2011.7920000000001, 2011.875, 2011.9579999999999, 2012.0420000000001, 2012.125, 2012.2079999999999, 2012.2920000000001, 2012.375, 2012.4579999999999, 2012.5420000000001, 2012.625, 2012.7079999999999, 2012.7920000000001, 2012.875, 2012.9579999999999, 2013.0420000000001, 2013.125, 2013.2079999999999, 2013.2920000000001, 2013.375, 2013.4579999999999, 2013.5420000000001, 2013.625, 2013.7079999999999, 2013.7920000000001, 2013.875, 2013.9579999999999, 2014.0420000000001, 2014.125, 2014.2079999999999, 2014.2920000000001, 2014.375, 2014.4579999999999, 2014.5420000000001, 2014.625, 2014.7079999999999, 2014.7920000000001, 2014.875, 2014.9579999999999, 2015.0420000000001, 2015.125, 2015.2079999999999, 2015.2920000000001, 2015.375, 2015.4579999999999, 2015.5420000000001, 2015.625, 2015.7079999999999, 2015.7920000000001, 2015.875, 2015.9579999999999, 2016.0420000000001, 2016.125, 2016.2079999999999, 2016.2920000000001, 2016.375, 2016.4579999999999, 2016.5420000000001, 2016.625, 2016.7079999999999, 2016.7920000000001, 2016.875, 2016.9579999999999, 2017.0420000000001, 2017.125, 2017.2079999999999, 2017.2920000000001, 2017.375, 2017.4579999999999, 2017.5420000000001, 2017.625, 2017.7079999999999, 2017.7920000000001, 2017.875, 2017.9579999999999, 2018.0420000000001, 2018.125, 2018.2079999999999, 2018.2920000000001, 2018.375, 2018.4579999999999, 2018.5420000000001, 2018.625, 2018.7079999999999, 2018.7920000000001, 2018.875, 2018.9579999999999, 2019.0420000000001, 2019.125, 2019.2079999999999, 2019.2920000000001, 2019.375, 2019.4579999999999, 2019.5420000000001, 2019.625, 2019.7079999999999], \"xaxis\": \"x\", \"y\": [356.96, 356.44, 356.76, 356.59, 357.03, 357.12, 356.76, 357.32, 357.39, 357.49, 357.54, 357.8, 358.13, 358.09, 358.29, 358.46, 358.46, 358.44, 358.79, 359.16, 359.17, 359.49, 359.68, 359.83, 359.79, 360.05, 360.22, 360.62, 360.58, 360.84, 360.97, 360.73, 361.55, 361.37, 361.59, 361.53, 361.85, 362.35, 362.53, 361.86, 362.1, 362.69, 362.85, 362.98, 362.99, 362.97, 363.03, 363.08, 362.88, 363.22, 362.88, 363.68, 363.74, 363.41, 363.6, 363.84, 363.68, 364.12, 364.56, 365.15, 365.07, 365.17, 365.6, 366.03, 366.55, 366.8, 367.14, 367.55, 367.37, 367.67, 367.56, 367.88, 367.96, 368.26, 368.08, 368.45, 368.15, 368.13, 368.77, 368.48, 368.13, 368.64, 368.71, 368.77, 369.08, 368.83, 369.09, 369.28, 368.71, 369.5, 369.2, 369.72, 370.3, 370.26, 370.32, 370.3, 370.43, 370.78, 370.87, 370.81, 370.94, 370.99, 370.9, 371.22, 371.44, 371.69, 371.74, 371.92, 372.3, 372.33, 372.44, 372.37, 372.81, 373.3, 373.42, 373.52, 374.11, 373.88, 374.34, 374.53, 374.63, 374.77, 374.8, 375.06, 375.55, 376.04, 376.19, 376.08, 376.48, 376.47, 376.81, 376.75, 376.78, 377.02, 377.23, 377.62, 377.48, 377.39, 376.94, 377.74, 377.62, 377.82, 378.31, 378.31, 378.21, 378.93, 379.27, 379.65, 379.31, 379.88, 380.18, 380.42, 380.01, 380.3, 380.5, 380.9, 381.14, 381.38, 381.14, 381.91, 381.87, 381.75, 381.91, 382.08, 382.16, 382.46, 382.33, 382.64, 382.67, 383.01, 382.94, 383.71, 383.34, 383.84, 384.02, 383.7, 384.32, 384.47, 384.65, 384.83, 385.28, 384.96, 384.48, 384.58, 385.45, 385.46, 385.8, 385.75, 386.46, 386.27, 386.37, 386.41, 386.63, 386.59, 387.32, 386.92, 387.02, 387.24, 387.55, 387.8, 388.01, 387.68, 388.16, 388.23, 388.41, 389.26, 389.65, 389.89, 389.88, 389.89, 389.72, 390.01, 390.14, 390.53, 390.79, 390.6, 391.03, 390.94, 391.07, 390.63, 391.02, 391.44, 392.04, 391.83, 392.4, 392.33, 392.44, 392.66, 392.89, 393.04, 392.8, 393.43, 393.54, 393.45, 393.92, 394.17, 394.54, 394.41, 395.02, 395.04, 395.4, 396.01, 395.84, 395.53, 396.4, 396.28, 396.92, 397.08, 396.99, 397.04, 397.15, 397.59, 397.55, 397.21, 398.24, 398.49, 398.37, 398.93, 398.67, 398.92, 398.97, 399.43, 399.36, 399.64, 399.73, 399.52, 400.03, 400.38, 400.51, 400.48, 400.93, 400.85, 401.26, 401.69, 402.11, 402.51, 402.27, 403.31, 403.39, 404.63, 404.27, 404.49, 404.07, 404.18, 404.59, 404.97, 405.55, 405.13, 405.88, 405.65, 405.74, 406.22, 406.24, 406.54, 406.79, 407.04, 406.91, 407.0, 407.12, 407.49, 407.67, 407.52, 407.93, 407.42, 407.79, 408.45, 408.37, 408.9, 409.05, 409.38, 410.02, 409.75, 410.54, 410.94, 410.49, 410.49, 411.21, 411.58, 411.43, 411.86, 412.08], \"yaxis\": \"y\"}, {\"line\": {\"color\": \"red\", \"width\": 3}, \"name\": \"Sea level\", \"type\": \"scatter\", \"x\": [1993.0115260000002, 1993.038692, 1993.065858, 1993.093025, 1993.120191, 1993.147357, 1993.1745230000001, 1993.201689, 1993.228855, 1993.2560210000001, 1993.2831879999999, 1993.310354, 1993.3375199999998, 1993.364686, 1993.391852, 1993.419018, 1993.4461850000002, 1993.473351, 1993.5005170000002, 1993.5276829999998, 1993.5548489999999, 1993.582015, 1993.6091809999998, 1993.636348, 1993.663514, 1993.6906800000002, 1993.717846, 1993.745012, 1993.7721780000002, 1993.799345, 1993.826511, 1993.853677, 1993.880843, 1993.908009, 1993.935175, 1993.962341, 1993.989508, 1994.0166739999997, 1994.0438399999998, 1994.071006, 1994.098172, 1994.1253379999998, 1994.152505, 1994.179671, 1994.2068370000002, 1994.234003, 1994.261169, 1994.2883350000002, 1994.3155010000003, 1994.342668, 1994.369834, 1994.397, 1994.424166, 1994.451332, 1994.478498, 1994.505664, 1994.5328309999998, 1994.5599969999998, 1994.587163, 1994.614329, 1994.6414949999998, 1994.668661, 1994.6958280000001, 1994.7229940000002, 1994.75016, 1994.7773260000001, 1994.8044920000002, 1994.8316579999998, 1994.858824, 1994.885991, 1994.913157, 1994.940323, 1994.9674890000001, 1994.994655, 1995.021821, 1995.048988, 1995.0761539999999, 1995.10332, 1995.130486, 1995.1576519999999, 1995.184818, 1995.211984, 1995.2391510000002, 1995.266317, 1995.293483, 1995.3206489999998, 1995.3478149999999, 1995.374981, 1995.4021480000001, 1995.429314, 1995.45648, 1995.4836460000001, 1995.5108120000002, 1995.537978, 1995.5651440000001, 1995.5923109999999, 1995.619477, 1995.646643, 1995.673809, 1995.700975, 1995.728141, 1995.7553070000001, 1995.7824739999999, 1995.80964, 1995.8368059999998, 1995.8639719999999, 1995.891138, 1995.9183039999998, 1995.945471, 1995.972637, 1995.9998030000002, 1996.026895, 1996.053987, 1996.0810789999998, 1996.108171, 1996.135263, 1996.1623550000002, 1996.189447, 1996.216539, 1996.2436309999998, 1996.270723, 1996.297815, 1996.324907, 1996.351998, 1996.37909, 1996.406182, 1996.4332739999998, 1996.460366, 1996.4874579999998, 1996.51455, 1996.5416420000001, 1996.568734, 1996.5958260000002, 1996.622918, 1996.65001, 1996.6771019999999, 1996.7041940000001, 1996.731285, 1996.7583769999999, 1996.7854690000001, 1996.812561, 1996.8396530000002, 1996.866745, 1996.893837, 1996.920929, 1996.9480210000002, 1996.975113, 1997.002211, 1997.029377, 1997.056543, 1997.083709, 1997.110875, 1997.1380420000003, 1997.165208, 1997.1923739999997, 1997.2195399999998, 1997.246706, 1997.273872, 1997.3010379999998, 1997.328205, 1997.355371, 1997.3825370000002, 1997.409703, 1997.4368690000001, 1997.4640350000002, 1997.491202, 1997.518368, 1997.545534, 1997.5727, 1997.599866, 1997.627032, 1997.654198, 1997.681365, 1997.7085309999998, 1997.7356969999998, 1997.762863, 1997.790029, 1997.8171949999999, 1997.844362, 1997.8715280000001, 1997.8986940000002, 1997.92586, 1997.9530260000001, 1997.9801920000002, 1998.0073579999998, 1998.034525, 1998.061691, 1998.088857, 1998.116023, 1998.1431890000001, 1998.170355, 1998.197521, 1998.2246879999998, 1998.2518539999999, 1998.27902, 1998.306186, 1998.3333519999999, 1998.360518, 1998.3876850000001, 1998.4148510000002, 1998.442017, 1998.469183, 1998.4963489999998, 1998.5235149999999, 1998.550681, 1998.5778480000001, 1998.605014, 1998.63218, 1998.6593460000001, 1998.686512, 1998.713678, 1998.740845, 1998.768011, 1998.795177, 1998.822343, 1998.849509, 1998.876675, 1998.903841, 1998.9310079999998, 1998.9581739999999, 1998.98534, 1999.0125059999998, 1999.0396719999999, 1999.066838, 1999.0940050000002, 1999.121171, 1999.148337, 1999.1755030000002, 1999.2026690000002, 1999.229835, 1999.2570010000002, 1999.284168, 1999.311334, 1999.3385, 1999.365666, 1999.392832, 1999.419998, 1999.4471640000002, 1999.474331, 1999.501497, 1999.5286629999998, 1999.555829, 1999.582995, 1999.6101609999998, 1999.637328, 1999.664494, 1999.6916600000002, 1999.7188260000003, 1999.7459920000001, 1999.7731579999997, 1999.8003239999998, 1999.827491, 1999.854657, 1999.881823, 1999.908989, 1999.936155, 1999.9633210000002, 1999.990488, 2000.017605, 2000.0446969999998, 2000.071789, 2000.098881, 2000.1259730000002, 2000.1530649999997, 2000.180157, 2000.2072489999998, 2000.234341, 2000.261433, 2000.288525, 2000.3156170000002, 2000.342709, 2000.369801, 2000.3968920000002, 2000.423984, 2000.451076, 2000.4781679999999, 2000.5052600000001, 2000.532352, 2000.5594440000002, 2000.586536, 2000.613628, 2000.6407199999999, 2000.6678120000001, 2000.694904, 2000.721996, 2000.7490879999998, 2000.776179, 2000.803271, 2000.8303629999998, 2000.857455, 2000.8845469999999, 2000.9116390000002, 2000.938731, 2000.965823, 2000.9929149999998, 2001.020062, 2001.0472280000001, 2001.0743940000002, 2001.10156, 2001.1287260000001, 2001.1558920000002, 2001.183059, 2001.210225, 2001.2373910000001, 2001.264557, 2001.291723, 2001.3188890000001, 2001.346055, 2001.373222, 2001.4003879999998, 2001.4275539999999, 2001.45472, 2001.481886, 2001.5090519999999, 2001.536218, 2001.5633850000002, 2001.5905510000002, 2001.617717, 2001.6448829999997, 2001.6720489999998, 2001.6992149999999, 2001.726382, 2001.7535480000001, 2001.780714, 2001.80788, 2001.8350460000001, 2001.862212, 2001.889378, 2001.9165449999998, 2001.943711, 2001.970877, 2001.998043, 2002.025209, 2002.052375, 2002.0795420000002, 2002.1067079999998, 2002.1338739999999, 2002.16104, 2002.1882059999998, 2002.215372, 2002.242538, 2002.2697050000002, 2002.296871, 2002.324037, 2002.3512030000002, 2002.378369, 2002.405535, 2002.432702, 2002.459868, 2002.487034, 2002.5142, 2002.541366, 2002.568532, 2002.595698, 2002.6228649999998, 2002.650031, 2002.677197, 2002.7043629999998, 2002.731529, 2002.758695, 2002.7858609999998, 2002.813028, 2002.840194, 2002.8673600000002, 2002.8945260000003, 2002.9216920000001, 2002.9488579999997, 2002.976025, 2003.003191, 2003.030357, 2003.057523, 2003.084689, 2003.111855, 2003.1390210000002, 2003.166188, 2003.193354, 2003.2205199999999, 2003.247686, 2003.274852, 2003.3020179999999, 2003.329185, 2003.3563510000001, 2003.3835170000002, 2003.4106829999998, 2003.437849, 2003.4650149999998, 2003.4921809999998, 2003.519348, 2003.5465140000001, 2003.57368, 2003.600846, 2003.6280120000001, 2003.6551780000002, 2003.682345, 2003.709511, 2003.7366769999999, 2003.763843, 2003.791009, 2003.818175, 2003.845341, 2003.872508, 2003.8996739999998, 2003.9268399999999, 2003.954006, 2003.9811719999998, 2004.008316, 2004.035407, 2004.062499, 2004.089591, 2004.1166829999997, 2004.143775, 2004.1708670000003, 2004.197959, 2004.2250510000001, 2004.252143, 2004.2792350000002, 2004.306327, 2004.333419, 2004.3605109999999, 2004.3876030000001, 2004.414694, 2004.4417859999999, 2004.4688780000001, 2004.49597, 2004.5230620000002, 2004.550154, 2004.577246, 2004.6043379999999, 2004.6314300000001, 2004.658522, 2004.685614, 2004.7127059999998, 2004.739798, 2004.7668899999999, 2004.7939809999998, 2004.821073, 2004.8481649999999, 2004.875257, 2004.9023489999997, 2004.929441, 2004.9565329999998, 2004.983625, 2005.0107460000002, 2005.037912, 2005.065079, 2005.0922449999998, 2005.119411, 2005.146577, 2005.173743, 2005.200909, 2005.228075, 2005.2552420000002, 2005.2824079999998, 2005.3095739999999, 2005.33674, 2005.3639059999998, 2005.391072, 2005.418239, 2005.4454050000002, 2005.472571, 2005.499737, 2005.5269030000002, 2005.554069, 2005.581235, 2005.6084019999998, 2005.635568, 2005.662734, 2005.6899, 2005.717066, 2005.744232, 2005.7713989999997, 2005.7985649999998, 2005.825731, 2005.852897, 2005.8800629999998, 2005.907229, 2005.934395, 2005.9615620000002, 2005.988728, 2006.0158940000001, 2006.0430600000002, 2006.0702260000003, 2006.0973920000001, 2006.124559, 2006.151725, 2006.178891, 2006.206057, 2006.233223, 2006.260389, 2006.287555, 2006.3147219999998, 2006.341888, 2006.369054, 2006.3962199999999, 2006.423386, 2006.450552, 2006.4777179999999, 2006.504885, 2006.5320510000001, 2006.5592170000002, 2006.5863829999998, 2006.613549, 2006.6407149999998, 2006.667882, 2006.695048, 2006.7222140000001, 2006.74938, 2006.776546, 2006.8037120000001, 2006.8308780000002, 2006.885211, 2006.9123769999999, 2006.939543, 2006.966709, 2006.993875, 2007.021042, 2007.048208, 2007.0753739999998, 2007.1025399999999, 2007.129706, 2007.1568719999998, 2007.1840379999999, 2007.211205, 2007.2383710000001, 2007.265537, 2007.292703, 2007.3198690000002, 2007.3470350000002, 2007.374202, 2007.401368, 2007.428534, 2007.4557, 2007.482866, 2007.5100320000001, 2007.537198, 2007.564365, 2007.5915309999998, 2007.6186969999999, 2007.645863, 2007.6730289999998, 2007.700195, 2007.727361, 2007.7545280000002, 2007.7816940000002, 2007.80886, 2007.8360260000002, 2007.8631920000003, 2007.8903579999999, 2007.917525, 2007.944691, 2007.971857, 2007.999023, 2008.026118, 2008.05321, 2008.0803010000002, 2008.107393, 2008.134485, 2008.1615769999999, 2008.1886690000001, 2008.215761, 2008.2428530000002, 2008.269945, 2008.297037, 2008.3241289999999, 2008.3512210000001, 2008.378313, 2008.405405, 2008.4324969999998, 2008.459588, 2008.48668, 2008.5137719999998, 2008.540864, 2008.5679559999999, 2008.5950480000001, 2008.62214, 2008.649232, 2008.6763239999998, 2008.703416, 2008.7305079999999, 2008.7576, 2008.7846920000002, 2008.811784, 2008.838875, 2008.8659670000002, 2008.893059, 2008.9201510000003, 2008.947243, 2008.974335, 2009.001431, 2009.028597, 2009.0557629999998, 2009.082929, 2009.110096, 2009.1372620000002, 2009.164428, 2009.1915940000001, 2009.2187600000002, 2009.245926, 2009.2730920000001, 2009.300259, 2009.327425, 2009.354591, 2009.381757, 2009.408923, 2009.436089, 2009.4632559999998, 2009.4904219999999, 2009.517588, 2009.544754, 2009.5719199999999, 2009.599086, 2009.626252, 2009.6534190000002, 2009.680585, 2009.7077510000001, 2009.7349170000002, 2009.7620829999998, 2009.789249, 2009.8164149999998, 2009.843582, 2009.870748, 2009.8979140000001, 2009.92508, 2009.952246, 2009.9794120000001, 2010.0065789999999, 2010.033745, 2010.060911, 2010.0880769999999, 2010.115243, 2010.142409, 2010.169575, 2010.196742, 2010.2239079999997, 2010.2510739999998, 2010.2782399999999, 2010.305406, 2010.3325719999998, 2010.359739, 2010.386905, 2010.4140710000001, 2010.441237, 2010.468403, 2010.4955690000002, 2010.5227350000002, 2010.549902, 2010.577068, 2010.604234, 2010.6314, 2010.658566, 2010.685732, 2010.7128989999999, 2010.740065, 2010.7672309999998, 2010.794397, 2010.821563, 2010.8487289999998, 2010.875895, 2010.903062, 2010.9302280000002, 2010.957394, 2010.98456, 2011.0117260000002, 2011.0388920000003, 2011.066059, 2011.093225, 2011.120391, 2011.147557, 2011.174723, 2011.2018890000002, 2011.229055, 2011.256222, 2011.2833879999998, 2011.310554, 2011.33772, 2011.3648859999998, 2011.392052, 2011.419218, 2011.4463850000002, 2011.4735510000003, 2011.5007170000001, 2011.5278829999997, 2011.5550489999998, 2011.582215, 2011.609382, 2011.636548, 2011.663714, 2011.69088, 2011.7180460000002, 2011.745212, 2011.7723780000001, 2011.7995449999999, 2011.826711, 2011.853877, 2011.8810429999999, 2011.908209, 2011.935375, 2011.9625420000002, 2011.9897079999998, 2012.016828, 2012.0439199999998, 2012.071012, 2012.098104, 2012.1251949999998, 2012.1522870000001, 2012.179379, 2012.2064710000002, 2012.233563, 2012.260655, 2012.2877469999999, 2012.3148390000001, 2012.341931, 2012.369023, 2012.3961149999998, 2012.423207, 2012.4502989999999, 2012.4773910000001, 2012.504482, 2012.5315739999999, 2012.558666, 2012.5857579999997, 2012.61285, 2012.6399420000002, 2012.667034, 2012.694126, 2012.721218, 2012.7483100000002, 2012.775402, 2012.802494, 2012.8295859999998, 2012.856677, 2012.883769, 2012.9108609999998, 2012.937953, 2012.965045, 2012.9921370000002, 2013.019282, 2013.046448, 2013.0736140000001, 2013.10078, 2013.127946, 2013.1551129999998, 2013.1822789999999, 2013.209445, 2013.236611, 2013.263777, 2013.290943, 2013.318109, 2013.3452760000002, 2013.372442, 2013.3996079999997, 2013.4267739999998, 2013.4539399999999, 2013.481106, 2013.5082719999998, 2013.535439, 2013.562605, 2013.5897710000002, 2013.616937, 2013.644103, 2013.6712690000002, 2013.698436, 2013.725602, 2013.752768, 2013.779934, 2013.8071, 2013.834266, 2013.861432, 2013.8885989999999, 2013.9157649999997, 2013.9429309999998, 2013.970097, 2013.997263, 2014.0244289999998, 2014.051596, 2014.078762, 2014.1059280000002, 2014.133094, 2014.16026, 2014.1874260000002, 2014.2145920000003, 2014.241759, 2014.268925, 2014.296091, 2014.323257, 2014.350423, 2014.3775890000002, 2014.404756, 2014.431922, 2014.4590879999998, 2014.486254, 2014.51342, 2014.5405859999998, 2014.567752, 2014.5949190000001, 2014.6220850000002, 2014.6492510000003, 2014.6764170000001, 2014.7035829999998, 2014.7307489999998, 2014.757915, 2014.785082, 2014.812248, 2014.839414, 2014.86658, 2014.8937460000002, 2014.920912, 2014.948079, 2014.9752449999999, 2015.002411, 2015.029577, 2015.0567429999999, 2015.083909, 2015.111075, 2015.1382420000002, 2015.1654079999998, 2015.192574, 2015.2197399999998, 2015.2469059999999, 2015.274072, 2015.3012390000001, 2015.328405, 2015.355571, 2015.3827370000001, 2015.4099030000002, 2015.437069, 2015.4642350000001, 2015.4914019999999, 2015.518568, 2015.545734, 2015.5729, 2015.600066, 2015.627232, 2015.6543989999998, 2015.6815649999999, 2015.708731, 2015.7358969999998, 2015.7630629999999, 2015.790229, 2015.817395, 2015.844562, 2015.871728, 2015.8988940000002, 2015.9260600000002, 2015.953226, 2015.9803920000002, 2016.0075379999998, 2016.03463, 2016.061722, 2016.088814, 2016.1159059999998, 2016.142997, 2016.170089, 2016.1971809999998, 2016.224273, 2016.2513649999999, 2016.2784570000001, 2016.305549, 2016.332641, 2016.3597329999998, 2016.386825, 2016.413917, 2016.441009, 2016.4681010000002, 2016.495193, 2016.522284, 2016.5493760000002, 2016.576468, 2016.6035600000002, 2016.630652, 2016.657744, 2016.684836, 2016.7119280000002, 2016.73902, 2016.766112, 2016.7932039999998, 2016.820296, 2016.847388, 2016.8744800000002, 2016.901571, 2016.928663, 2016.9557550000002, 2016.982847, 2017.009966, 2017.0371329999998, 2017.064299, 2017.0914649999997, 2017.1186309999998, 2017.145797, 2017.172963, 2017.2001289999998, 2017.227296, 2017.254462, 2017.2816280000002, 2017.308794, 2017.3359600000001, 2017.3631260000002, 2017.390293, 2017.417459, 2017.444625, 2017.471791, 2017.498957, 2017.526123, 2017.553289, 2017.580456, 2017.607622, 2017.6347879999998, 2017.661954, 2017.68912, 2017.7162859999999, 2017.743453, 2017.7706190000001, 2017.7977850000002, 2017.824951, 2017.8521170000001, 2017.8792829999998, 2017.9064489999998, 2017.933616, 2017.960782, 2017.987948, 2018.015114, 2018.0422800000001, 2018.0694460000002, 2018.096613, 2018.123779, 2018.1509449999999, 2018.178111, 2018.205277, 2018.2324429999999, 2018.259609, 2018.2867760000001, 2018.3139420000002, 2018.3411079999998, 2018.368274, 2018.3954399999998, 2018.4226059999999, 2018.449772, 2018.4769390000001, 2018.504105, 2018.531271, 2018.5584370000001, 2018.5856030000002, 2018.612769, 2018.639936, 2018.6671019999999, 2018.694268, 2018.721434, 2018.7486, 2018.775766, 2018.802932, 2018.8300989999998, 2018.8572649999999, 2018.884431, 2018.9115969999998, 2018.9387629999999, 2018.965929, 2018.9930960000002, 2019.020262, 2019.047428, 2019.0745940000002, 2019.1017600000002, 2019.128926, 2019.1560920000002, 2019.183259, 2019.210425, 2019.237591, 2019.264757, 2019.291923, 2019.319089, 2019.3462559999998, 2019.373422, 2019.400588, 2019.4277539999998, 2019.45492, 2019.482086, 2019.509252, 2019.536419, 2019.563585], \"xaxis\": \"x\", \"y\": [-37.55, -38.06, -37.6, -37.45, -36.44, -35.31, -34.28, -33.5, -32.94, -32.6, -32.45, -32.47, -32.63, -32.69, -32.84, -32.53, -32.43, -32.32, -32.5, -32.85, -33.15, -33.24, -33.28, -33.43, -33.68, -33.96, -34.16, -34.07, -33.92, -33.91, -34.16, -34.41, -34.23, -33.52, -32.46, -31.38, -31.01, -30.41, -30.24, -30.61, -31.11, -31.4, -31.16, -30.26, -29.02, -28.1, -27.84, -28.39, -28.69, -29.33, -29.6, -30.06, -30.06, -29.95, -29.87, -29.87, -29.95, -30.09, -30.24, -30.34, -30.3, -30.39, -30.29, -30.29, -30.24, -30.08, -29.93, -29.94, -30.06, -29.9, -29.12, -27.85, -26.46, -25.61, -25.0, -24.65, -24.97, -25.45, -25.77, -25.58, -25.49, -25.34, -25.45, -25.64, -25.77, -25.73, -25.7, -25.67, -25.62, -25.73, -26.08, -26.67, -27.08, -27.83, -28.1, -28.1, -27.52, -27.18, -26.6, -25.8, -25.94, -25.57, -25.93, -26.28, -26.31, -25.96, -25.41, -24.95, -25.13, -25.32, -25.64, -26.34, -26.79, -26.43, -26.33, -25.74, -25.36, -25.27, -25.33, -25.39, -25.16, -24.81, -24.34, -23.64, -23.05, -22.62, -22.36, -22.13, -21.89, -21.69, -21.67, -21.93, -22.6, -23.27, -24.05, -24.34, -24.12, -23.45, -22.46, -21.4, -20.76, -20.76, -21.29, -22.12, -23.0, -23.62, -24.32, -24.68, -24.81, -24.78, -24.73, -24.7, -24.61, -24.3, -23.82, -23.26, -22.91, -22.55, -22.24, -21.86, -21.29, -20.67, -20.21, -19.9, -19.67, -19.34, -18.93, -18.48, -17.89, -17.41, -16.95, -16.64, -16.46, -16.28, -16.05, -16.25, -16.03, -16.35, -16.82, -17.61, -18.04, -18.7, -19.34, -19.76, -19.89, -19.79, -19.6, -19.44, -19.31, -19.13, -18.87, -18.54, -18.3, -17.99, -17.97, -18.2, -18.7, -19.48, -20.27, -21.22, -21.69, -21.96, -22.24, -22.7, -23.23, -23.98, -24.31, -24.86, -25.08, -25.23, -25.32, -25.44, -25.19, -24.97, -24.83, -24.76, -24.79, -24.55, -24.34, -24.04, -23.81, -23.5, -23.05, -22.3, -21.23, -20.15, -19.21, -18.66, -18.38, -18.32, -18.18, -18.16, -18.22, -18.37, -18.58, -18.82, -19.05, -19.18, -19.02, -19.14, -19.2, -19.39, -19.6, -19.64, -19.3, -18.58, -17.79, -17.21, -17.05, -16.6, -16.44, -16.46, -16.18, -15.91, -15.55, -15.2, -14.96, -14.86, -14.94, -15.18, -15.42, -15.61, -15.87, -15.69, -15.36, -15.07, -15.0, -15.26, -15.74, -16.17, -16.48, -16.62, -16.83, -16.88, -17.12, -17.27, -17.41, -17.47, -17.38, -17.13, -16.79, -16.3, -16.02, -15.42, -14.9, -14.0, -13.48, -13.27, -13.39, -13.91, -14.06, -14.28, -14.29, -14.09, -13.66, -13.43, -13.12, -12.77, -12.27, -11.66, -11.08, -10.65, -10.48, -10.22, -10.1, -10.12, -10.34, -10.71, -11.04, -11.13, -10.86, -10.25, -9.51, -8.93, -8.68, -8.76, -8.94, -8.97, -8.69, -8.13, -7.55, -7.29, -7.52, -8.01, -8.44, -8.62, -8.74, -8.98, -9.32, -9.62, -9.73, -9.63, -9.35, -8.88, -8.33, -7.89, -7.69, -7.78, -8.03, -8.26, -8.38, -8.46, -8.54, -8.62, -8.72, -8.84, -8.94, -8.88, -8.46, -7.69, -6.72, -5.75, -4.98, -4.55, -4.52, -4.77, -5.09, -5.26, -5.17, -4.86, -4.44, -4.15, -4.11, -4.32, -4.63, -4.9, -5.03, -4.98, -4.67, -4.09, -3.44, -2.99, -2.93, -3.17, -3.43, -3.48, -3.36, -3.25, -3.23, -3.32, -3.44, -3.55, -3.69, -3.88, -4.06, -4.12, -4.04, -3.89, -3.76, -3.68, -3.6, -3.41, -3.14, -2.87, -2.66, -2.48, -2.34, -2.37, -2.63, -3.04, -3.33, -3.24, -2.76, -2.09, -1.41, -0.85, -0.59, -0.75, -1.26, -1.78, -1.99, -1.83, -1.47, -1.16, -1.03, -1.22, -1.77, -2.55, -3.31, -3.76, -3.73, -3.23, -2.48, -1.77, -1.36, -1.28, -1.32, -1.24, -1.0, -0.65, -0.39, -0.29, -0.41, -0.68, -1.0, -1.21, -1.22, -0.95, -0.4, 0.27, 0.82, 1.11, 1.2, 1.37, 1.77, 2.37, 2.99, 3.44, 3.58, 3.42, 3.11, 2.83, 2.7, 2.68, 2.76, 2.92, 3.13, 3.37, 3.58, 3.74, 3.84, 3.78, 3.56, 3.28, 3.09, 3.1, 3.31, 3.57, 3.72, 3.67, 3.57, 3.68, 4.16, 4.91, 5.61, 6.03, 6.04, 5.67, 5.06, 4.35, 3.76, 3.4, 3.28, 3.3, 3.32, 3.24, 3.08, 2.93, 2.83, 2.83, 3.02, 3.42, 3.98, 4.57, 5.12, 5.66, 6.17, 6.55, 6.62, 6.33, 5.87, 5.56, 5.63, 5.99, 6.36, 6.51, 6.48, 6.43, 6.48, 6.53, 6.14, 5.95, 5.9, 5.88, 5.8, 5.7, 5.47, 5.4, 5.52, 5.75, 6.0, 6.16, 6.27, 6.39, 6.5, 6.47, 6.29, 6.07, 5.95, 5.99, 6.07, 6.1, 5.99, 5.73, 5.42, 5.16, 4.97, 4.77, 4.45, 4.11, 3.92, 3.97, 4.27, 4.77, 5.47, 6.34, 7.14, 7.59, 7.51, 6.97, 6.34, 5.91, 5.76, 5.73, 5.67, 5.61, 5.64, 5.79, 5.93, 5.9, 5.69, 5.43, 5.41, 5.88, 6.94, 8.36, 9.74, 10.71, 11.18, 11.18, 10.91, 10.49, 10.05, 9.65, 9.33, 9.08, 8.91, 8.84, 8.91, 9.11, 9.36, 9.63, 9.94, 10.3, 10.64, 10.79, 10.65, 10.37, 10.08, 9.91, 9.85, 9.88, 10.05, 10.42, 10.88, 11.33, 11.63, 11.78, 11.8, 11.8, 11.81, 11.86, 11.95, 12.08, 12.22, 12.37, 12.54, 12.81, 13.23, 13.7, 14.13, 14.55, 15.05, 15.63, 16.19, 16.61, 16.92, 17.15, 17.29, 17.28, 17.13, 16.87, 16.58, 16.29, 15.95, 15.53, 15.1, 14.91, 15.15, 15.75, 16.33, 16.49, 16.22, 15.81, 15.61, 15.73, 16.08, 16.61, 17.27, 17.95, 18.49, 18.78, 18.74, 18.38, 17.77, 16.96, 16.03, 15.04, 14.11, 13.36, 12.85, 12.57, 12.48, 12.52, 12.59, 12.52, 12.24, 11.82, 11.44, 11.25, 11.29, 11.42, 11.54, 11.56, 11.51, 11.39, 11.22, 10.97, 10.65, 10.32, 10.09, 10.07, 10.25, 10.65, 11.26, 12.08, 13.03, 13.94, 14.66, 15.07, 15.18, 15.2, 15.38, 15.79, 16.29, 16.65, 16.72, 16.62, 16.56, 16.64, 16.73, 16.65, 16.42, 16.3, 16.52, 17.07, 17.82, 18.66, 19.52, 20.31, 20.96, 21.35, 21.44, 21.31, 21.08, 20.9, 20.89, 21.05, 21.32, 21.65, 22.01, 22.38, 22.83, 23.39, 24.08, 24.86, 25.63, 26.38, 27.01, 27.35, 27.33, 27.05, 26.81, 26.81, 27.1, 27.5, 27.8, 27.91, 27.88, 27.84, 27.93, 28.18, 28.54, 28.92, 29.23, 29.47, 29.64, 29.77, 29.84, 29.86, 29.87, 29.85, 29.78, 29.59, 29.27, 28.87, 28.49, 28.14, 27.75, 27.3, 26.85, 26.52, 26.36, 26.37, 26.48, 26.57, 26.51, 26.22, 25.81, 25.51, 25.47, 25.67, 26.03, 26.47, 26.95, 27.41, 27.75, 27.87, 27.8, 27.63, 27.55, 27.66, 27.98, 28.41, 28.92, 29.48, 30.11, 30.68, 31.04, 31.14, 30.97, 30.56, 29.97, 29.32, 28.76, 28.47, 28.49, 28.8, 29.38, 30.15, 30.98, 31.71, 32.23, 32.51, 32.61, 32.54, 32.32, 32.03, 31.84, 31.89, 32.11, 32.31, 32.27, 32.08, 32.02, 32.39, 33.16, 33.98, 34.57, 34.98, 35.46, 36.19, 37.1, 37.95, 38.51, 38.76, 38.79, 38.8, 38.87, 38.93, 38.91, 38.84, 38.89, 39.27, 40.03, 41.03, 42.04, 42.87, 43.47, 43.85, 44.1, 44.34, 44.63, 44.96, 45.26, 45.49, 45.71, 45.94, 46.09, 46.07, 45.87, 45.59, 45.28, 44.91, 44.56, 44.45, 44.72, 45.32, 46.02, 46.59, 46.95, 47.17, 47.27, 47.22, 46.94, 46.36, 45.55, 44.71, 44.12, 43.99, 44.34, 44.96, 45.55, 45.78, 45.51, 44.8, 43.85, 42.92, 42.32, 42.15, 42.25, 42.33, 42.26, 42.13, 42.27, 42.83, 43.74, 44.71, 45.43, 45.7, 45.49, 44.98, 44.36, 43.77, 43.24, 42.79, 42.55, 42.58, 42.91, 43.48, 44.14, 44.75, 45.15, 45.24, 45.07, 44.77, 44.54, 44.52, 44.71, 45.03, 45.35, 45.66, 46.0, 46.4, 46.79, 47.11, 47.37, 47.51, 47.51, 47.38, 47.25, 47.34, 47.75, 48.41, 49.16, 49.78, 50.15, 50.14, 49.78, 49.27, 48.87, 48.71, 48.73, 48.73, 48.63, 48.41, 48.13, 47.77, 47.37, 47.11, 47.14, 47.48, 47.96, 48.42, 48.75, 48.92, 48.98, 49.05, 49.24, 49.53, 49.79, 49.98, 50.19, 50.56, 51.11, 51.74, 52.32, 52.77, 53.04, 53.07, 52.83, 52.37, 51.85, 51.46, 51.31, 51.47, 51.89, 52.49, 53.09, 53.55, 53.84, 54.06, 54.36, 54.75, 55.11, 55.34, 55.54, 55.83, 56.24, 56.58, 56.73, 56.77, 56.95, 57.09, 57.01, 56.67, 56.07, 55.24], \"yaxis\": \"y2\"}],\n",
       "                        {\"plot_bgcolor\": \"rgba(0,0,0,0)\", \"template\": {\"data\": {\"bar\": [{\"error_x\": {\"color\": \"#2a3f5f\"}, \"error_y\": {\"color\": \"#2a3f5f\"}, \"marker\": {\"line\": {\"color\": \"#E5ECF6\", \"width\": 0.5}}, \"type\": \"bar\"}], \"barpolar\": [{\"marker\": {\"line\": {\"color\": \"#E5ECF6\", \"width\": 0.5}}, \"type\": \"barpolar\"}], \"carpet\": [{\"aaxis\": {\"endlinecolor\": \"#2a3f5f\", \"gridcolor\": \"white\", \"linecolor\": \"white\", \"minorgridcolor\": \"white\", \"startlinecolor\": \"#2a3f5f\"}, \"baxis\": {\"endlinecolor\": \"#2a3f5f\", \"gridcolor\": \"white\", \"linecolor\": \"white\", \"minorgridcolor\": \"white\", \"startlinecolor\": \"#2a3f5f\"}, \"type\": \"carpet\"}], \"choropleth\": [{\"colorbar\": {\"outlinewidth\": 0, \"ticks\": \"\"}, \"type\": \"choropleth\"}], \"contour\": [{\"colorbar\": {\"outlinewidth\": 0, \"ticks\": \"\"}, \"colorscale\": [[0.0, \"#0d0887\"], [0.1111111111111111, \"#46039f\"], [0.2222222222222222, \"#7201a8\"], [0.3333333333333333, \"#9c179e\"], [0.4444444444444444, \"#bd3786\"], [0.5555555555555556, \"#d8576b\"], [0.6666666666666666, \"#ed7953\"], [0.7777777777777778, \"#fb9f3a\"], [0.8888888888888888, \"#fdca26\"], [1.0, \"#f0f921\"]], \"type\": \"contour\"}], \"contourcarpet\": [{\"colorbar\": {\"outlinewidth\": 0, \"ticks\": \"\"}, \"type\": \"contourcarpet\"}], \"heatmap\": [{\"colorbar\": {\"outlinewidth\": 0, \"ticks\": \"\"}, \"colorscale\": [[0.0, \"#0d0887\"], [0.1111111111111111, \"#46039f\"], [0.2222222222222222, \"#7201a8\"], [0.3333333333333333, \"#9c179e\"], [0.4444444444444444, \"#bd3786\"], [0.5555555555555556, \"#d8576b\"], [0.6666666666666666, \"#ed7953\"], [0.7777777777777778, \"#fb9f3a\"], [0.8888888888888888, \"#fdca26\"], [1.0, \"#f0f921\"]], \"type\": \"heatmap\"}], \"heatmapgl\": [{\"colorbar\": {\"outlinewidth\": 0, \"ticks\": \"\"}, \"colorscale\": [[0.0, \"#0d0887\"], [0.1111111111111111, \"#46039f\"], [0.2222222222222222, \"#7201a8\"], [0.3333333333333333, \"#9c179e\"], [0.4444444444444444, \"#bd3786\"], [0.5555555555555556, \"#d8576b\"], [0.6666666666666666, \"#ed7953\"], [0.7777777777777778, \"#fb9f3a\"], [0.8888888888888888, \"#fdca26\"], [1.0, \"#f0f921\"]], \"type\": \"heatmapgl\"}], \"histogram\": [{\"marker\": {\"colorbar\": {\"outlinewidth\": 0, \"ticks\": \"\"}}, \"type\": \"histogram\"}], \"histogram2d\": [{\"colorbar\": {\"outlinewidth\": 0, \"ticks\": \"\"}, \"colorscale\": [[0.0, \"#0d0887\"], [0.1111111111111111, \"#46039f\"], [0.2222222222222222, \"#7201a8\"], [0.3333333333333333, \"#9c179e\"], [0.4444444444444444, \"#bd3786\"], [0.5555555555555556, \"#d8576b\"], [0.6666666666666666, \"#ed7953\"], [0.7777777777777778, \"#fb9f3a\"], [0.8888888888888888, \"#fdca26\"], [1.0, \"#f0f921\"]], \"type\": \"histogram2d\"}], \"histogram2dcontour\": [{\"colorbar\": {\"outlinewidth\": 0, \"ticks\": \"\"}, \"colorscale\": [[0.0, \"#0d0887\"], [0.1111111111111111, \"#46039f\"], [0.2222222222222222, \"#7201a8\"], [0.3333333333333333, \"#9c179e\"], [0.4444444444444444, \"#bd3786\"], [0.5555555555555556, \"#d8576b\"], [0.6666666666666666, \"#ed7953\"], [0.7777777777777778, \"#fb9f3a\"], [0.8888888888888888, \"#fdca26\"], [1.0, \"#f0f921\"]], \"type\": \"histogram2dcontour\"}], \"mesh3d\": [{\"colorbar\": {\"outlinewidth\": 0, \"ticks\": \"\"}, \"type\": \"mesh3d\"}], \"parcoords\": [{\"line\": {\"colorbar\": {\"outlinewidth\": 0, \"ticks\": \"\"}}, \"type\": \"parcoords\"}], \"scatter\": [{\"marker\": {\"colorbar\": {\"outlinewidth\": 0, \"ticks\": \"\"}}, \"type\": \"scatter\"}], \"scatter3d\": [{\"line\": {\"colorbar\": {\"outlinewidth\": 0, \"ticks\": \"\"}}, \"marker\": {\"colorbar\": {\"outlinewidth\": 0, \"ticks\": \"\"}}, \"type\": \"scatter3d\"}], \"scattercarpet\": [{\"marker\": {\"colorbar\": {\"outlinewidth\": 0, \"ticks\": \"\"}}, \"type\": \"scattercarpet\"}], \"scattergeo\": [{\"marker\": {\"colorbar\": {\"outlinewidth\": 0, \"ticks\": \"\"}}, \"type\": \"scattergeo\"}], \"scattergl\": [{\"marker\": {\"colorbar\": {\"outlinewidth\": 0, \"ticks\": \"\"}}, \"type\": \"scattergl\"}], \"scattermapbox\": [{\"marker\": {\"colorbar\": {\"outlinewidth\": 0, \"ticks\": \"\"}}, \"type\": \"scattermapbox\"}], \"scatterpolar\": [{\"marker\": {\"colorbar\": {\"outlinewidth\": 0, \"ticks\": \"\"}}, \"type\": \"scatterpolar\"}], \"scatterpolargl\": [{\"marker\": {\"colorbar\": {\"outlinewidth\": 0, \"ticks\": \"\"}}, \"type\": \"scatterpolargl\"}], \"scatterternary\": [{\"marker\": {\"colorbar\": {\"outlinewidth\": 0, \"ticks\": \"\"}}, \"type\": \"scatterternary\"}], \"surface\": [{\"colorbar\": {\"outlinewidth\": 0, \"ticks\": \"\"}, \"colorscale\": [[0.0, \"#0d0887\"], [0.1111111111111111, \"#46039f\"], [0.2222222222222222, \"#7201a8\"], [0.3333333333333333, \"#9c179e\"], [0.4444444444444444, \"#bd3786\"], [0.5555555555555556, \"#d8576b\"], [0.6666666666666666, \"#ed7953\"], [0.7777777777777778, \"#fb9f3a\"], [0.8888888888888888, \"#fdca26\"], [1.0, \"#f0f921\"]], \"type\": \"surface\"}], \"table\": [{\"cells\": {\"fill\": {\"color\": \"#EBF0F8\"}, \"line\": {\"color\": \"white\"}}, \"header\": {\"fill\": {\"color\": \"#C8D4E3\"}, \"line\": {\"color\": \"white\"}}, \"type\": \"table\"}]}, \"layout\": {\"annotationdefaults\": {\"arrowcolor\": \"#2a3f5f\", \"arrowhead\": 0, \"arrowwidth\": 1}, \"colorscale\": {\"diverging\": [[0, \"#8e0152\"], [0.1, \"#c51b7d\"], [0.2, \"#de77ae\"], [0.3, \"#f1b6da\"], [0.4, \"#fde0ef\"], [0.5, \"#f7f7f7\"], [0.6, \"#e6f5d0\"], [0.7, \"#b8e186\"], [0.8, \"#7fbc41\"], [0.9, \"#4d9221\"], [1, \"#276419\"]], \"sequential\": [[0.0, \"#0d0887\"], [0.1111111111111111, \"#46039f\"], [0.2222222222222222, \"#7201a8\"], [0.3333333333333333, \"#9c179e\"], [0.4444444444444444, \"#bd3786\"], [0.5555555555555556, \"#d8576b\"], [0.6666666666666666, \"#ed7953\"], [0.7777777777777778, \"#fb9f3a\"], [0.8888888888888888, \"#fdca26\"], [1.0, \"#f0f921\"]], \"sequentialminus\": [[0.0, \"#0d0887\"], [0.1111111111111111, \"#46039f\"], [0.2222222222222222, \"#7201a8\"], [0.3333333333333333, \"#9c179e\"], [0.4444444444444444, \"#bd3786\"], [0.5555555555555556, \"#d8576b\"], [0.6666666666666666, \"#ed7953\"], [0.7777777777777778, \"#fb9f3a\"], [0.8888888888888888, \"#fdca26\"], [1.0, \"#f0f921\"]]}, \"colorway\": [\"#636efa\", \"#EF553B\", \"#00cc96\", \"#ab63fa\", \"#FFA15A\", \"#19d3f3\", \"#FF6692\", \"#B6E880\", \"#FF97FF\", \"#FECB52\"], \"font\": {\"color\": \"#2a3f5f\"}, \"geo\": {\"bgcolor\": \"white\", \"lakecolor\": \"white\", \"landcolor\": \"#E5ECF6\", \"showlakes\": true, \"showland\": true, \"subunitcolor\": \"white\"}, \"hoverlabel\": {\"align\": \"left\"}, \"hovermode\": \"closest\", \"mapbox\": {\"style\": \"light\"}, \"paper_bgcolor\": \"white\", \"plot_bgcolor\": \"#E5ECF6\", \"polar\": {\"angularaxis\": {\"gridcolor\": \"white\", \"linecolor\": \"white\", \"ticks\": \"\"}, \"bgcolor\": \"#E5ECF6\", \"radialaxis\": {\"gridcolor\": \"white\", \"linecolor\": \"white\", \"ticks\": \"\"}}, \"scene\": {\"xaxis\": {\"backgroundcolor\": \"#E5ECF6\", \"gridcolor\": \"white\", \"gridwidth\": 2, \"linecolor\": \"white\", \"showbackground\": true, \"ticks\": \"\", \"zerolinecolor\": \"white\"}, \"yaxis\": {\"backgroundcolor\": \"#E5ECF6\", \"gridcolor\": \"white\", \"gridwidth\": 2, \"linecolor\": \"white\", \"showbackground\": true, \"ticks\": \"\", \"zerolinecolor\": \"white\"}, \"zaxis\": {\"backgroundcolor\": \"#E5ECF6\", \"gridcolor\": \"white\", \"gridwidth\": 2, \"linecolor\": \"white\", \"showbackground\": true, \"ticks\": \"\", \"zerolinecolor\": \"white\"}}, \"shapedefaults\": {\"line\": {\"color\": \"#2a3f5f\"}}, \"ternary\": {\"aaxis\": {\"gridcolor\": \"white\", \"linecolor\": \"white\", \"ticks\": \"\"}, \"baxis\": {\"gridcolor\": \"white\", \"linecolor\": \"white\", \"ticks\": \"\"}, \"bgcolor\": \"#E5ECF6\", \"caxis\": {\"gridcolor\": \"white\", \"linecolor\": \"white\", \"ticks\": \"\"}}, \"title\": {\"x\": 0.05}, \"xaxis\": {\"automargin\": true, \"gridcolor\": \"white\", \"linecolor\": \"white\", \"ticks\": \"\", \"zerolinecolor\": \"white\", \"zerolinewidth\": 2}, \"yaxis\": {\"automargin\": true, \"gridcolor\": \"white\", \"linecolor\": \"white\", \"ticks\": \"\", \"zerolinecolor\": \"white\", \"zerolinewidth\": 2}}}, \"title\": {\"text\": \"<b>CO2 and Sea Level since 1993</b>\"}, \"xaxis\": {\"anchor\": \"y\", \"domain\": [0.0, 0.94], \"gridcolor\": \"rgb(159, 197, 232)\", \"title\": {\"text\": \"<b>Year</b>\"}}, \"yaxis\": {\"anchor\": \"x\", \"domain\": [0.0, 1.0], \"showgrid\": false, \"title\": {\"text\": \"<b>CO2 level (ppm)</b> \"}}, \"yaxis2\": {\"anchor\": \"x\", \"gridcolor\": \"rgb(159, 197, 232)\", \"overlaying\": \"y\", \"side\": \"right\", \"title\": {\"text\": \"<b>Sea level (mm)</b>\"}, \"zerolinecolor\": \"rgb(74, 134, 232)\"}},\n",
       "                        {\"responsive\": true}\n",
       "                    ).then(function(){\n",
       "                            \n",
       "var gd = document.getElementById('1e603191-e7fa-45d8-b2fa-d3d9de199642');\n",
       "var x = new MutationObserver(function (mutations, observer) {{\n",
       "        var display = window.getComputedStyle(gd).display;\n",
       "        if (!display || display === 'none') {{\n",
       "            console.log([gd, 'removed!']);\n",
       "            Plotly.purge(gd);\n",
       "            observer.disconnect();\n",
       "        }}\n",
       "}});\n",
       "\n",
       "// Listen for the removal of the full notebook cells\n",
       "var notebookContainer = gd.closest('#notebook-container');\n",
       "if (notebookContainer) {{\n",
       "    x.observe(notebookContainer, {childList: true});\n",
       "}}\n",
       "\n",
       "// Listen for the clearing of the current output cell\n",
       "var outputEl = gd.closest('.output');\n",
       "if (outputEl) {{\n",
       "    x.observe(outputEl, {childList: true});\n",
       "}}\n",
       "\n",
       "                        })\n",
       "                };\n",
       "                });\n",
       "            </script>\n",
       "        </div>"
      ]
     },
     "metadata": {},
     "output_type": "display_data"
    }
   ],
   "source": [
    "fig = make_subplots(specs=[[{\"secondary_y\": True}]])\n",
    "\n",
    "fig.add_trace(\n",
    "    go.Scatter(x=co2_1993['year'], y=co2_1993['trend'], name=\"CO2 level\", line=dict(color='blue', width=3)),\n",
    "    secondary_y=False\n",
    ")\n",
    "\n",
    "fig.add_trace(\n",
    "    go.Scatter(x=sl_df['year'], y=sl_df['level'], name=\"Sea level\", line=dict(color='red', width=3)),\n",
    "    secondary_y=True\n",
    ")\n",
    "\n",
    "# Add figure title\n",
    "fig.update_layout(\n",
    "    title_text=\"<b>CO2 and Sea Level since 1993</b>\",\n",
    "    plot_bgcolor='rgba(0,0,0,0)',\n",
    "    xaxis1={\"gridcolor\": \"rgb(159, 197, 232)\"},\n",
    "    yaxis2={\"gridcolor\": \"rgb(159, 197, 232)\", \"zerolinecolor\": \"rgb(74, 134, 232)\"},\n",
    ")\n",
    "\n",
    "# Set x-axis title\n",
    "fig.update_xaxes(title_text=\"<b>Year</b>\")\n",
    "\n",
    "# Set y-axes titles\n",
    "fig.update_yaxes(title_text=\"<b>CO2 level (ppm)</b> \", secondary_y=False, showgrid=False)\n",
    "fig.update_yaxes(title_text=\"<b>Sea level (mm)</b>\", secondary_y=True)\n",
    "\n",
    "fig.show()"
   ]
  },
  {
   "cell_type": "markdown",
   "metadata": {},
   "source": [
    "<span style=\"color:purple\">\n",
    "    <h2>Temperature Change</h2>\n",
    "<p><b>Plot Sea Temperature Change since 1880</b></p>\n",
    "</span>"
   ]
  },
  {
   "cell_type": "code",
   "execution_count": 47,
   "metadata": {},
   "outputs": [],
   "source": [
    "temp = pd.read_csv(DATA_DIR+TEMP, header=None, skiprows=5)\n",
    "temp.columns = ['year', 'no_smoothing', \"lowess\"]\n",
    "\n",
    "# Water Temperature since 1993\n",
    "temp_1993 = temp[temp['year'] >= 1993]"
   ]
  },
  {
   "cell_type": "code",
   "execution_count": 64,
   "metadata": {},
   "outputs": [
    {
     "data": {
      "text/plain": [
       "(978, 2)"
      ]
     },
     "execution_count": 64,
     "metadata": {},
     "output_type": "execute_result"
    }
   ],
   "source": [
    "# sl_df.shape  # 978, weekly\n",
    "# co2_1993.shape  # 321, monthly\n",
    "# temp_1993.shape  # 26, yearly"
   ]
  },
  {
   "cell_type": "markdown",
   "metadata": {},
   "source": [
    "<span style=\"color:purple\">\n",
    "    <h2>Predict Sea Level Change Vs Year, CO2 and Temperature since 1993</h2>\n",
    "    <p><b>Normalize the data and make predictions from the linear model</b></p>\n",
    "</span>"
   ]
  },
  {
   "cell_type": "code",
   "execution_count": 55,
   "metadata": {},
   "outputs": [],
   "source": [
    "# Interpolation\n",
    "\n",
    "co2_years = co2_1993['year'].values\n",
    "co2_levels = co2_1993['trend'].values\n",
    "sealevel_years = sl_df['year'].values\n",
    "sealevel_levels = sl_df['level'].values\n",
    "temp_years = temp_1993['year'].values\n",
    "temp_levels = temp_1993['no_smoothing'].values\n",
    "\n",
    "# Interpolate for quarterly values\n",
    "years = np.linspace(start=1993, stop=2019, num=105)\n",
    "\n",
    "co2_ip = np.interp(years, co2_years, co2_levels)\n",
    "sl_ip = np.interp(years, sealevel_years, sealevel_levels)\n",
    "temp_ip = np.interp(years, temp_years, temp_levels)\n",
    "\n",
    "# Create a Dataframe with Independent Variables (year, CO2, temperature) and Dependent Variable (Sea Level)\n",
    "df_ip = pd.DataFrame(data={'year': years, 'co2': co2_ip, 'temp': temp_ip, 'sea_level': sl_ip})"
   ]
  },
  {
   "cell_type": "code",
   "execution_count": 90,
   "metadata": {},
   "outputs": [],
   "source": [
    "# Get Predictions from a linear model\n",
    "m = linear_model.LinearRegression(normalize=True)  # Normalize the data\n",
    "m.fit(df_ip[['year', 'co2', 'temp']], df_ip['sea_level'])  # Fit the model\n",
    "predictions = m.predict(df_ip[['year', 'co2', 'temp']])"
   ]
  },
  {
   "cell_type": "code",
   "execution_count": 95,
   "metadata": {},
   "outputs": [
    {
     "data": {
      "application/vnd.plotly.v1+json": {
       "config": {
        "plotlyServerURL": "https://plot.ly"
       },
       "data": [
        {
         "line": {
          "color": "green",
          "width": 3
         },
         "name": "Predicted Sea Level",
         "type": "scatter",
         "x": [
          1993,
          1993.25,
          1993.5,
          1993.75,
          1994,
          1994.25,
          1994.5,
          1994.75,
          1995,
          1995.25,
          1995.5,
          1995.75,
          1996,
          1996.25,
          1996.5,
          1996.75,
          1997,
          1997.25,
          1997.5,
          1997.75,
          1998,
          1998.25,
          1998.5,
          1998.75,
          1999,
          1999.25,
          1999.5,
          1999.75,
          2000,
          2000.25,
          2000.5,
          2000.75,
          2001,
          2001.25,
          2001.5,
          2001.75,
          2002,
          2002.25,
          2002.5,
          2002.75,
          2003,
          2003.25,
          2003.5,
          2003.75,
          2004,
          2004.25,
          2004.5,
          2004.75,
          2005,
          2005.25,
          2005.5,
          2005.75,
          2006,
          2006.25,
          2006.5,
          2006.75,
          2007,
          2007.25,
          2007.5,
          2007.75,
          2008,
          2008.25,
          2008.5,
          2008.75,
          2009,
          2009.25,
          2009.5,
          2009.75,
          2010,
          2010.25,
          2010.5,
          2010.75,
          2011,
          2011.25,
          2011.5,
          2011.75,
          2012,
          2012.25,
          2012.5,
          2012.75,
          2013,
          2013.25,
          2013.5,
          2013.75,
          2014,
          2014.25,
          2014.5,
          2014.75,
          2015,
          2015.25,
          2015.5,
          2015.75,
          2016,
          2016.25,
          2016.5,
          2016.75,
          2017,
          2017.25,
          2017.5,
          2017.75,
          2018,
          2018.25,
          2018.5,
          2018.75,
          2019
         ],
         "xaxis": "x",
         "y": [
          -35.37088726176944,
          -36.002691584885724,
          -35.35420091500782,
          -34.15867511176066,
          -32.90495408155812,
          -31.49910342159137,
          -30.488980304914094,
          -28.373147876105577,
          -26.804350580666778,
          -26.752191358001255,
          -26.99100827010625,
          -27.066878546739645,
          -27.89928677377793,
          -26.34226553034341,
          -24.622297651439112,
          -23.751980086065032,
          -23.370502427106658,
          -22.15073948678082,
          -21.10556222731566,
          -19.664657424563302,
          -16.32658822310168,
          -16.75299992759892,
          -16.13189754692121,
          -16.919119658534783,
          -18.05551313187425,
          -17.710596688456462,
          -17.73812969754499,
          -18.34761497617683,
          -17.548775762515106,
          -16.492096464273345,
          -15.65655902845947,
          -13.040247647844353,
          -12.390934938282498,
          -11.253604361989346,
          -10.97756314461867,
          -9.502700251990973,
          -8.202423040225312,
          -8.043868329674297,
          -6.348959627531713,
          -5.398949830402671,
          -4.565330487182564,
          -4.838516509004876,
          -3.167981950554349,
          -3.417889881595329,
          -3.8307444481074526,
          -1.8429415185978542,
          -1.996722941005828,
          -0.2533399647040824,
          1.4551258754245282,
          3.4404626858827214,
          3.9592797770947072,
          3.4422218285194504,
          4.647742597791876,
          5.435079772676545,
          5.756855131926386,
          6.485997079857043,
          6.900884802234941,
          7.092712569590731,
          7.1332327468667245,
          6.847859653197247,
          7.016409329772159,
          6.105815943732068,
          8.977912309717794,
          11.000358362171482,
          11.672675149286988,
          12.961039302433164,
          13.49286550517536,
          14.432058296595642,
          15.429446314971756,
          17.506936442259757,
          16.290576723936738,
          16.22648249930853,
          16.0459978207723,
          15.80923600787537,
          17.562750956814398,
          18.699396500037892,
          19.335563091455697,
          19.878754326360195,
          20.957341649243517,
          22.548046969324787,
          24.03400088088847,
          25.008110808481433,
          27.029734821252077,
          27.887454294937015,
          29.07106703956606,
          31.51306675254682,
          33.117055197384616,
          34.63957032448798,
          36.35994922323562,
          37.81194504492305,
          39.21738468504873,
          41.25133277627856,
          43.6228131838443,
          46.23597341233926,
          45.706591385304364,
          45.7126054462492,
          46.242376549781966,
          46.33013794168983,
          46.90673924001385,
          46.56385595246047,
          47.00078870609468,
          46.69378160101178,
          47.876572305956415,
          49.22230964637447,
          50.859023121563496
         ],
         "yaxis": "y"
        },
        {
         "line": {
          "color": "red",
          "width": 3
         },
         "name": "Actual Sea level",
         "type": "scatter",
         "x": [
          1993,
          1993.25,
          1993.5,
          1993.75,
          1994,
          1994.25,
          1994.5,
          1994.75,
          1995,
          1995.25,
          1995.5,
          1995.75,
          1996,
          1996.25,
          1996.5,
          1996.75,
          1997,
          1997.25,
          1997.5,
          1997.75,
          1998,
          1998.25,
          1998.5,
          1998.75,
          1999,
          1999.25,
          1999.5,
          1999.75,
          2000,
          2000.25,
          2000.5,
          2000.75,
          2001,
          2001.25,
          2001.5,
          2001.75,
          2002,
          2002.25,
          2002.5,
          2002.75,
          2003,
          2003.25,
          2003.5,
          2003.75,
          2004,
          2004.25,
          2004.5,
          2004.75,
          2005,
          2005.25,
          2005.5,
          2005.75,
          2006,
          2006.25,
          2006.5,
          2006.75,
          2007,
          2007.25,
          2007.5,
          2007.75,
          2008,
          2008.25,
          2008.5,
          2008.75,
          2009,
          2009.25,
          2009.5,
          2009.75,
          2010,
          2010.25,
          2010.5,
          2010.75,
          2011,
          2011.25,
          2011.5,
          2011.75,
          2012,
          2012.25,
          2012.5,
          2012.75,
          2013,
          2013.25,
          2013.5,
          2013.75,
          2014,
          2014.25,
          2014.5,
          2014.75,
          2015,
          2015.25,
          2015.5,
          2015.75,
          2016,
          2016.25,
          2016.5,
          2016.75,
          2017,
          2017.25,
          2017.5,
          2017.75,
          2018,
          2018.25,
          2018.5,
          2018.75,
          2019
         ],
         "xaxis": "x",
         "y": [
          -37.55,
          -32.67535669587145,
          -32.496574394462534,
          -34.04245821983418,
          -30.77826915997563,
          -27.94689612015092,
          -29.87,
          -30.240294485754344,
          -25.48998049031837,
          -25.52587830376093,
          -26.916821026280093,
          -25.64228116027543,
          -25.645090063483373,
          -25.335929794772394,
          -21.797411782075567,
          -22.766113612872477,
          -24.650626614510475,
          -22.86634837664613,
          -19.207217109621656,
          -16.15530074357736,
          -19.854789074578797,
          -18.011156592798237,
          -22.301822130607942,
          -25.35574946624444,
          -23.64271000515203,
          -18.216079658397312,
          -19.133387322388423,
          -16.983608186704952,
          -14.888062101265051,
          -15.150278310940722,
          -17.382818544219266,
          -13.982494555383687,
          -13.599973109366456,
          -10.164302436869825,
          -9.123262165941284,
          -7.489960980636488,
          -9.609829198262965,
          -8.40197371811383,
          -7.227030847383902,
          -4.95922145328678,
          -4.706413531620476,
          -3.248296399911608,
          -3.9968281370775243,
          -2.4113399101813875,
          -1.0215649867349492,
          -1.0402831094047391,
          -1.7090115163145152,
          -0.5116735567695927,
          1.1643398104785585,
          2.8840273125497915,
          3.8394191268499513,
          3.6487683586702793,
          4.76539939630604,
          2.8682426562615095,
          6.481670777045342,
          6.478858867702231,
          5.777454264364604,
          6.437087903997322,
          5.82601413531724,
          4.219998159530324,
          5.904591252999131,
          5.6214107485618605,
          11.047252325408577,
          9.05389487671711,
          10.095315544729013,
          11.782999337407004,
          12.63519472870618,
          16.78211698446571,
          15.631710899251814,
          15.617906942500083,
          18.280503938750837,
          12.49462857984259,
          11.488202900684032,
          10.074580557293768,
          15.17709673856976,
          16.655862475152595,
          19.819803834810852,
          21.213811826369138,
          26.255918201614982,
          27.80686180422199,
          29.519243322894784,
          29.07285651181574,
          26.44650519031202,
          26.425167488771887,
          28.023322903630163,
          30.381019288817466,
          31.34938010748845,
          32.0459014945161,
          34.943612235884125,
          38.87683354192771,
          43.059899138631266,
          45.82940256202745,
          44.64502541811017,
          46.3892226487494,
          45.38401830866232,
          42.18673999704711,
          43.98681994173926,
          45.08430022822513,
          45.67305381727132,
          47.271689980122,
          49.0925428844879,
          47.201965692408926,
          49.21128947949641,
          52.78391445188938,
          52.04248472354901
         ],
         "yaxis": "y2"
        }
       ],
       "layout": {
        "plot_bgcolor": "rgba(0,0,0,0)",
        "template": {
         "data": {
          "bar": [
           {
            "error_x": {
             "color": "#2a3f5f"
            },
            "error_y": {
             "color": "#2a3f5f"
            },
            "marker": {
             "line": {
              "color": "#E5ECF6",
              "width": 0.5
             }
            },
            "type": "bar"
           }
          ],
          "barpolar": [
           {
            "marker": {
             "line": {
              "color": "#E5ECF6",
              "width": 0.5
             }
            },
            "type": "barpolar"
           }
          ],
          "carpet": [
           {
            "aaxis": {
             "endlinecolor": "#2a3f5f",
             "gridcolor": "white",
             "linecolor": "white",
             "minorgridcolor": "white",
             "startlinecolor": "#2a3f5f"
            },
            "baxis": {
             "endlinecolor": "#2a3f5f",
             "gridcolor": "white",
             "linecolor": "white",
             "minorgridcolor": "white",
             "startlinecolor": "#2a3f5f"
            },
            "type": "carpet"
           }
          ],
          "choropleth": [
           {
            "colorbar": {
             "outlinewidth": 0,
             "ticks": ""
            },
            "type": "choropleth"
           }
          ],
          "contour": [
           {
            "colorbar": {
             "outlinewidth": 0,
             "ticks": ""
            },
            "colorscale": [
             [
              0,
              "#0d0887"
             ],
             [
              0.1111111111111111,
              "#46039f"
             ],
             [
              0.2222222222222222,
              "#7201a8"
             ],
             [
              0.3333333333333333,
              "#9c179e"
             ],
             [
              0.4444444444444444,
              "#bd3786"
             ],
             [
              0.5555555555555556,
              "#d8576b"
             ],
             [
              0.6666666666666666,
              "#ed7953"
             ],
             [
              0.7777777777777778,
              "#fb9f3a"
             ],
             [
              0.8888888888888888,
              "#fdca26"
             ],
             [
              1,
              "#f0f921"
             ]
            ],
            "type": "contour"
           }
          ],
          "contourcarpet": [
           {
            "colorbar": {
             "outlinewidth": 0,
             "ticks": ""
            },
            "type": "contourcarpet"
           }
          ],
          "heatmap": [
           {
            "colorbar": {
             "outlinewidth": 0,
             "ticks": ""
            },
            "colorscale": [
             [
              0,
              "#0d0887"
             ],
             [
              0.1111111111111111,
              "#46039f"
             ],
             [
              0.2222222222222222,
              "#7201a8"
             ],
             [
              0.3333333333333333,
              "#9c179e"
             ],
             [
              0.4444444444444444,
              "#bd3786"
             ],
             [
              0.5555555555555556,
              "#d8576b"
             ],
             [
              0.6666666666666666,
              "#ed7953"
             ],
             [
              0.7777777777777778,
              "#fb9f3a"
             ],
             [
              0.8888888888888888,
              "#fdca26"
             ],
             [
              1,
              "#f0f921"
             ]
            ],
            "type": "heatmap"
           }
          ],
          "heatmapgl": [
           {
            "colorbar": {
             "outlinewidth": 0,
             "ticks": ""
            },
            "colorscale": [
             [
              0,
              "#0d0887"
             ],
             [
              0.1111111111111111,
              "#46039f"
             ],
             [
              0.2222222222222222,
              "#7201a8"
             ],
             [
              0.3333333333333333,
              "#9c179e"
             ],
             [
              0.4444444444444444,
              "#bd3786"
             ],
             [
              0.5555555555555556,
              "#d8576b"
             ],
             [
              0.6666666666666666,
              "#ed7953"
             ],
             [
              0.7777777777777778,
              "#fb9f3a"
             ],
             [
              0.8888888888888888,
              "#fdca26"
             ],
             [
              1,
              "#f0f921"
             ]
            ],
            "type": "heatmapgl"
           }
          ],
          "histogram": [
           {
            "marker": {
             "colorbar": {
              "outlinewidth": 0,
              "ticks": ""
             }
            },
            "type": "histogram"
           }
          ],
          "histogram2d": [
           {
            "colorbar": {
             "outlinewidth": 0,
             "ticks": ""
            },
            "colorscale": [
             [
              0,
              "#0d0887"
             ],
             [
              0.1111111111111111,
              "#46039f"
             ],
             [
              0.2222222222222222,
              "#7201a8"
             ],
             [
              0.3333333333333333,
              "#9c179e"
             ],
             [
              0.4444444444444444,
              "#bd3786"
             ],
             [
              0.5555555555555556,
              "#d8576b"
             ],
             [
              0.6666666666666666,
              "#ed7953"
             ],
             [
              0.7777777777777778,
              "#fb9f3a"
             ],
             [
              0.8888888888888888,
              "#fdca26"
             ],
             [
              1,
              "#f0f921"
             ]
            ],
            "type": "histogram2d"
           }
          ],
          "histogram2dcontour": [
           {
            "colorbar": {
             "outlinewidth": 0,
             "ticks": ""
            },
            "colorscale": [
             [
              0,
              "#0d0887"
             ],
             [
              0.1111111111111111,
              "#46039f"
             ],
             [
              0.2222222222222222,
              "#7201a8"
             ],
             [
              0.3333333333333333,
              "#9c179e"
             ],
             [
              0.4444444444444444,
              "#bd3786"
             ],
             [
              0.5555555555555556,
              "#d8576b"
             ],
             [
              0.6666666666666666,
              "#ed7953"
             ],
             [
              0.7777777777777778,
              "#fb9f3a"
             ],
             [
              0.8888888888888888,
              "#fdca26"
             ],
             [
              1,
              "#f0f921"
             ]
            ],
            "type": "histogram2dcontour"
           }
          ],
          "mesh3d": [
           {
            "colorbar": {
             "outlinewidth": 0,
             "ticks": ""
            },
            "type": "mesh3d"
           }
          ],
          "parcoords": [
           {
            "line": {
             "colorbar": {
              "outlinewidth": 0,
              "ticks": ""
             }
            },
            "type": "parcoords"
           }
          ],
          "scatter": [
           {
            "marker": {
             "colorbar": {
              "outlinewidth": 0,
              "ticks": ""
             }
            },
            "type": "scatter"
           }
          ],
          "scatter3d": [
           {
            "line": {
             "colorbar": {
              "outlinewidth": 0,
              "ticks": ""
             }
            },
            "marker": {
             "colorbar": {
              "outlinewidth": 0,
              "ticks": ""
             }
            },
            "type": "scatter3d"
           }
          ],
          "scattercarpet": [
           {
            "marker": {
             "colorbar": {
              "outlinewidth": 0,
              "ticks": ""
             }
            },
            "type": "scattercarpet"
           }
          ],
          "scattergeo": [
           {
            "marker": {
             "colorbar": {
              "outlinewidth": 0,
              "ticks": ""
             }
            },
            "type": "scattergeo"
           }
          ],
          "scattergl": [
           {
            "marker": {
             "colorbar": {
              "outlinewidth": 0,
              "ticks": ""
             }
            },
            "type": "scattergl"
           }
          ],
          "scattermapbox": [
           {
            "marker": {
             "colorbar": {
              "outlinewidth": 0,
              "ticks": ""
             }
            },
            "type": "scattermapbox"
           }
          ],
          "scatterpolar": [
           {
            "marker": {
             "colorbar": {
              "outlinewidth": 0,
              "ticks": ""
             }
            },
            "type": "scatterpolar"
           }
          ],
          "scatterpolargl": [
           {
            "marker": {
             "colorbar": {
              "outlinewidth": 0,
              "ticks": ""
             }
            },
            "type": "scatterpolargl"
           }
          ],
          "scatterternary": [
           {
            "marker": {
             "colorbar": {
              "outlinewidth": 0,
              "ticks": ""
             }
            },
            "type": "scatterternary"
           }
          ],
          "surface": [
           {
            "colorbar": {
             "outlinewidth": 0,
             "ticks": ""
            },
            "colorscale": [
             [
              0,
              "#0d0887"
             ],
             [
              0.1111111111111111,
              "#46039f"
             ],
             [
              0.2222222222222222,
              "#7201a8"
             ],
             [
              0.3333333333333333,
              "#9c179e"
             ],
             [
              0.4444444444444444,
              "#bd3786"
             ],
             [
              0.5555555555555556,
              "#d8576b"
             ],
             [
              0.6666666666666666,
              "#ed7953"
             ],
             [
              0.7777777777777778,
              "#fb9f3a"
             ],
             [
              0.8888888888888888,
              "#fdca26"
             ],
             [
              1,
              "#f0f921"
             ]
            ],
            "type": "surface"
           }
          ],
          "table": [
           {
            "cells": {
             "fill": {
              "color": "#EBF0F8"
             },
             "line": {
              "color": "white"
             }
            },
            "header": {
             "fill": {
              "color": "#C8D4E3"
             },
             "line": {
              "color": "white"
             }
            },
            "type": "table"
           }
          ]
         },
         "layout": {
          "annotationdefaults": {
           "arrowcolor": "#2a3f5f",
           "arrowhead": 0,
           "arrowwidth": 1
          },
          "colorscale": {
           "diverging": [
            [
             0,
             "#8e0152"
            ],
            [
             0.1,
             "#c51b7d"
            ],
            [
             0.2,
             "#de77ae"
            ],
            [
             0.3,
             "#f1b6da"
            ],
            [
             0.4,
             "#fde0ef"
            ],
            [
             0.5,
             "#f7f7f7"
            ],
            [
             0.6,
             "#e6f5d0"
            ],
            [
             0.7,
             "#b8e186"
            ],
            [
             0.8,
             "#7fbc41"
            ],
            [
             0.9,
             "#4d9221"
            ],
            [
             1,
             "#276419"
            ]
           ],
           "sequential": [
            [
             0,
             "#0d0887"
            ],
            [
             0.1111111111111111,
             "#46039f"
            ],
            [
             0.2222222222222222,
             "#7201a8"
            ],
            [
             0.3333333333333333,
             "#9c179e"
            ],
            [
             0.4444444444444444,
             "#bd3786"
            ],
            [
             0.5555555555555556,
             "#d8576b"
            ],
            [
             0.6666666666666666,
             "#ed7953"
            ],
            [
             0.7777777777777778,
             "#fb9f3a"
            ],
            [
             0.8888888888888888,
             "#fdca26"
            ],
            [
             1,
             "#f0f921"
            ]
           ],
           "sequentialminus": [
            [
             0,
             "#0d0887"
            ],
            [
             0.1111111111111111,
             "#46039f"
            ],
            [
             0.2222222222222222,
             "#7201a8"
            ],
            [
             0.3333333333333333,
             "#9c179e"
            ],
            [
             0.4444444444444444,
             "#bd3786"
            ],
            [
             0.5555555555555556,
             "#d8576b"
            ],
            [
             0.6666666666666666,
             "#ed7953"
            ],
            [
             0.7777777777777778,
             "#fb9f3a"
            ],
            [
             0.8888888888888888,
             "#fdca26"
            ],
            [
             1,
             "#f0f921"
            ]
           ]
          },
          "colorway": [
           "#636efa",
           "#EF553B",
           "#00cc96",
           "#ab63fa",
           "#FFA15A",
           "#19d3f3",
           "#FF6692",
           "#B6E880",
           "#FF97FF",
           "#FECB52"
          ],
          "font": {
           "color": "#2a3f5f"
          },
          "geo": {
           "bgcolor": "white",
           "lakecolor": "white",
           "landcolor": "#E5ECF6",
           "showlakes": true,
           "showland": true,
           "subunitcolor": "white"
          },
          "hoverlabel": {
           "align": "left"
          },
          "hovermode": "closest",
          "mapbox": {
           "style": "light"
          },
          "paper_bgcolor": "white",
          "plot_bgcolor": "#E5ECF6",
          "polar": {
           "angularaxis": {
            "gridcolor": "white",
            "linecolor": "white",
            "ticks": ""
           },
           "bgcolor": "#E5ECF6",
           "radialaxis": {
            "gridcolor": "white",
            "linecolor": "white",
            "ticks": ""
           }
          },
          "scene": {
           "xaxis": {
            "backgroundcolor": "#E5ECF6",
            "gridcolor": "white",
            "gridwidth": 2,
            "linecolor": "white",
            "showbackground": true,
            "ticks": "",
            "zerolinecolor": "white"
           },
           "yaxis": {
            "backgroundcolor": "#E5ECF6",
            "gridcolor": "white",
            "gridwidth": 2,
            "linecolor": "white",
            "showbackground": true,
            "ticks": "",
            "zerolinecolor": "white"
           },
           "zaxis": {
            "backgroundcolor": "#E5ECF6",
            "gridcolor": "white",
            "gridwidth": 2,
            "linecolor": "white",
            "showbackground": true,
            "ticks": "",
            "zerolinecolor": "white"
           }
          },
          "shapedefaults": {
           "line": {
            "color": "#2a3f5f"
           }
          },
          "ternary": {
           "aaxis": {
            "gridcolor": "white",
            "linecolor": "white",
            "ticks": ""
           },
           "baxis": {
            "gridcolor": "white",
            "linecolor": "white",
            "ticks": ""
           },
           "bgcolor": "#E5ECF6",
           "caxis": {
            "gridcolor": "white",
            "linecolor": "white",
            "ticks": ""
           }
          },
          "title": {
           "x": 0.05
          },
          "xaxis": {
           "automargin": true,
           "gridcolor": "white",
           "linecolor": "white",
           "ticks": "",
           "zerolinecolor": "white",
           "zerolinewidth": 2
          },
          "yaxis": {
           "automargin": true,
           "gridcolor": "white",
           "linecolor": "white",
           "ticks": "",
           "zerolinecolor": "white",
           "zerolinewidth": 2
          }
         }
        },
        "title": {
         "text": "<b>Actual Vs Predicted Sea Level since 1993</b>"
        },
        "xaxis": {
         "anchor": "y",
         "domain": [
          0,
          0.94
         ],
         "gridcolor": "rgb(159, 197, 232)",
         "title": {
          "text": "<b>Year</b>"
         }
        },
        "yaxis": {
         "anchor": "x",
         "domain": [
          0,
          1
         ],
         "showgrid": false,
         "title": {
          "text": "<b>Predicted (mm)</b> "
         }
        },
        "yaxis2": {
         "anchor": "x",
         "gridcolor": "rgb(159, 197, 232)",
         "overlaying": "y",
         "side": "right",
         "title": {
          "text": "<b>Actual (mm)</b>"
         },
         "zerolinecolor": "rgb(74, 134, 232)"
        }
       }
      },
      "text/html": [
       "<div>\n",
       "        \n",
       "        \n",
       "            <div id=\"8eb19fce-2f62-4a36-b4aa-032684cae3ed\" class=\"plotly-graph-div\" style=\"height:525px; width:100%;\"></div>\n",
       "            <script type=\"text/javascript\">\n",
       "                require([\"plotly\"], function(Plotly) {\n",
       "                    window.PLOTLYENV=window.PLOTLYENV || {};\n",
       "                    \n",
       "                if (document.getElementById(\"8eb19fce-2f62-4a36-b4aa-032684cae3ed\")) {\n",
       "                    Plotly.newPlot(\n",
       "                        '8eb19fce-2f62-4a36-b4aa-032684cae3ed',\n",
       "                        [{\"line\": {\"color\": \"green\", \"width\": 3}, \"name\": \"Predicted Sea Level\", \"type\": \"scatter\", \"x\": [1993.0, 1993.25, 1993.5, 1993.75, 1994.0, 1994.25, 1994.5, 1994.75, 1995.0, 1995.25, 1995.5, 1995.75, 1996.0, 1996.25, 1996.5, 1996.75, 1997.0, 1997.25, 1997.5, 1997.75, 1998.0, 1998.25, 1998.5, 1998.75, 1999.0, 1999.25, 1999.5, 1999.75, 2000.0, 2000.25, 2000.5, 2000.75, 2001.0, 2001.25, 2001.5, 2001.75, 2002.0, 2002.25, 2002.5, 2002.75, 2003.0, 2003.25, 2003.5, 2003.75, 2004.0, 2004.25, 2004.5, 2004.75, 2005.0, 2005.25, 2005.5, 2005.75, 2006.0, 2006.25, 2006.5, 2006.75, 2007.0, 2007.25, 2007.5, 2007.75, 2008.0, 2008.25, 2008.5, 2008.75, 2009.0, 2009.25, 2009.5, 2009.75, 2010.0, 2010.25, 2010.5, 2010.75, 2011.0, 2011.25, 2011.5, 2011.75, 2012.0, 2012.25, 2012.5, 2012.75, 2013.0, 2013.25, 2013.5, 2013.75, 2014.0, 2014.25, 2014.5, 2014.75, 2015.0, 2015.25, 2015.5, 2015.75, 2016.0, 2016.25, 2016.5, 2016.75, 2017.0, 2017.25, 2017.5, 2017.75, 2018.0, 2018.25, 2018.5, 2018.75, 2019.0], \"xaxis\": \"x\", \"y\": [-35.37088726176944, -36.002691584885724, -35.35420091500782, -34.15867511176066, -32.90495408155812, -31.49910342159137, -30.488980304914094, -28.373147876105577, -26.804350580666778, -26.752191358001255, -26.99100827010625, -27.066878546739645, -27.89928677377793, -26.34226553034341, -24.622297651439112, -23.751980086065032, -23.370502427106658, -22.15073948678082, -21.10556222731566, -19.664657424563302, -16.32658822310168, -16.75299992759892, -16.13189754692121, -16.919119658534783, -18.05551313187425, -17.710596688456462, -17.73812969754499, -18.34761497617683, -17.548775762515106, -16.492096464273345, -15.65655902845947, -13.040247647844353, -12.390934938282498, -11.253604361989346, -10.97756314461867, -9.502700251990973, -8.202423040225312, -8.043868329674297, -6.348959627531713, -5.398949830402671, -4.565330487182564, -4.838516509004876, -3.167981950554349, -3.417889881595329, -3.8307444481074526, -1.8429415185978542, -1.996722941005828, -0.2533399647040824, 1.4551258754245282, 3.4404626858827214, 3.9592797770947072, 3.4422218285194504, 4.647742597791876, 5.435079772676545, 5.756855131926386, 6.485997079857043, 6.900884802234941, 7.092712569590731, 7.1332327468667245, 6.847859653197247, 7.016409329772159, 6.105815943732068, 8.977912309717794, 11.000358362171482, 11.672675149286988, 12.961039302433164, 13.49286550517536, 14.432058296595642, 15.429446314971756, 17.506936442259757, 16.290576723936738, 16.22648249930853, 16.0459978207723, 15.80923600787537, 17.562750956814398, 18.699396500037892, 19.335563091455697, 19.878754326360195, 20.957341649243517, 22.548046969324787, 24.03400088088847, 25.008110808481433, 27.029734821252077, 27.887454294937015, 29.07106703956606, 31.51306675254682, 33.117055197384616, 34.63957032448798, 36.35994922323562, 37.81194504492305, 39.21738468504873, 41.25133277627856, 43.6228131838443, 46.23597341233926, 45.706591385304364, 45.7126054462492, 46.242376549781966, 46.33013794168983, 46.90673924001385, 46.56385595246047, 47.00078870609468, 46.69378160101178, 47.876572305956415, 49.22230964637447, 50.859023121563496], \"yaxis\": \"y\"}, {\"line\": {\"color\": \"red\", \"width\": 3}, \"name\": \"Actual Sea level\", \"type\": \"scatter\", \"x\": [1993.0, 1993.25, 1993.5, 1993.75, 1994.0, 1994.25, 1994.5, 1994.75, 1995.0, 1995.25, 1995.5, 1995.75, 1996.0, 1996.25, 1996.5, 1996.75, 1997.0, 1997.25, 1997.5, 1997.75, 1998.0, 1998.25, 1998.5, 1998.75, 1999.0, 1999.25, 1999.5, 1999.75, 2000.0, 2000.25, 2000.5, 2000.75, 2001.0, 2001.25, 2001.5, 2001.75, 2002.0, 2002.25, 2002.5, 2002.75, 2003.0, 2003.25, 2003.5, 2003.75, 2004.0, 2004.25, 2004.5, 2004.75, 2005.0, 2005.25, 2005.5, 2005.75, 2006.0, 2006.25, 2006.5, 2006.75, 2007.0, 2007.25, 2007.5, 2007.75, 2008.0, 2008.25, 2008.5, 2008.75, 2009.0, 2009.25, 2009.5, 2009.75, 2010.0, 2010.25, 2010.5, 2010.75, 2011.0, 2011.25, 2011.5, 2011.75, 2012.0, 2012.25, 2012.5, 2012.75, 2013.0, 2013.25, 2013.5, 2013.75, 2014.0, 2014.25, 2014.5, 2014.75, 2015.0, 2015.25, 2015.5, 2015.75, 2016.0, 2016.25, 2016.5, 2016.75, 2017.0, 2017.25, 2017.5, 2017.75, 2018.0, 2018.25, 2018.5, 2018.75, 2019.0], \"xaxis\": \"x\", \"y\": [-37.55, -32.67535669587145, -32.496574394462534, -34.04245821983418, -30.77826915997563, -27.94689612015092, -29.87, -30.240294485754344, -25.48998049031837, -25.52587830376093, -26.916821026280093, -25.64228116027543, -25.645090063483373, -25.335929794772394, -21.797411782075567, -22.766113612872477, -24.650626614510475, -22.86634837664613, -19.207217109621656, -16.15530074357736, -19.854789074578797, -18.011156592798237, -22.301822130607942, -25.35574946624444, -23.64271000515203, -18.216079658397312, -19.133387322388423, -16.983608186704952, -14.888062101265051, -15.150278310940722, -17.382818544219266, -13.982494555383687, -13.599973109366456, -10.164302436869825, -9.123262165941284, -7.489960980636488, -9.609829198262965, -8.40197371811383, -7.227030847383902, -4.95922145328678, -4.706413531620476, -3.248296399911608, -3.9968281370775243, -2.4113399101813875, -1.0215649867349492, -1.0402831094047391, -1.7090115163145152, -0.5116735567695927, 1.1643398104785585, 2.8840273125497915, 3.8394191268499513, 3.6487683586702793, 4.76539939630604, 2.8682426562615095, 6.481670777045342, 6.478858867702231, 5.777454264364604, 6.437087903997322, 5.82601413531724, 4.219998159530324, 5.904591252999131, 5.6214107485618605, 11.047252325408577, 9.05389487671711, 10.095315544729013, 11.782999337407004, 12.63519472870618, 16.78211698446571, 15.631710899251814, 15.617906942500083, 18.280503938750837, 12.49462857984259, 11.488202900684032, 10.074580557293768, 15.17709673856976, 16.655862475152595, 19.819803834810852, 21.213811826369138, 26.255918201614982, 27.80686180422199, 29.519243322894784, 29.07285651181574, 26.44650519031202, 26.425167488771887, 28.023322903630163, 30.381019288817466, 31.34938010748845, 32.0459014945161, 34.943612235884125, 38.87683354192771, 43.059899138631266, 45.82940256202745, 44.64502541811017, 46.3892226487494, 45.38401830866232, 42.18673999704711, 43.98681994173926, 45.08430022822513, 45.67305381727132, 47.271689980122, 49.0925428844879, 47.201965692408926, 49.21128947949641, 52.78391445188938, 52.04248472354901], \"yaxis\": \"y2\"}],\n",
       "                        {\"plot_bgcolor\": \"rgba(0,0,0,0)\", \"template\": {\"data\": {\"bar\": [{\"error_x\": {\"color\": \"#2a3f5f\"}, \"error_y\": {\"color\": \"#2a3f5f\"}, \"marker\": {\"line\": {\"color\": \"#E5ECF6\", \"width\": 0.5}}, \"type\": \"bar\"}], \"barpolar\": [{\"marker\": {\"line\": {\"color\": \"#E5ECF6\", \"width\": 0.5}}, \"type\": \"barpolar\"}], \"carpet\": [{\"aaxis\": {\"endlinecolor\": \"#2a3f5f\", \"gridcolor\": \"white\", \"linecolor\": \"white\", \"minorgridcolor\": \"white\", \"startlinecolor\": \"#2a3f5f\"}, \"baxis\": {\"endlinecolor\": \"#2a3f5f\", \"gridcolor\": \"white\", \"linecolor\": \"white\", \"minorgridcolor\": \"white\", \"startlinecolor\": \"#2a3f5f\"}, \"type\": \"carpet\"}], \"choropleth\": [{\"colorbar\": {\"outlinewidth\": 0, \"ticks\": \"\"}, \"type\": \"choropleth\"}], \"contour\": [{\"colorbar\": {\"outlinewidth\": 0, \"ticks\": \"\"}, \"colorscale\": [[0.0, \"#0d0887\"], [0.1111111111111111, \"#46039f\"], [0.2222222222222222, \"#7201a8\"], [0.3333333333333333, \"#9c179e\"], [0.4444444444444444, \"#bd3786\"], [0.5555555555555556, \"#d8576b\"], [0.6666666666666666, \"#ed7953\"], [0.7777777777777778, \"#fb9f3a\"], [0.8888888888888888, \"#fdca26\"], [1.0, \"#f0f921\"]], \"type\": \"contour\"}], \"contourcarpet\": [{\"colorbar\": {\"outlinewidth\": 0, \"ticks\": \"\"}, \"type\": \"contourcarpet\"}], \"heatmap\": [{\"colorbar\": {\"outlinewidth\": 0, \"ticks\": \"\"}, \"colorscale\": [[0.0, \"#0d0887\"], [0.1111111111111111, \"#46039f\"], [0.2222222222222222, \"#7201a8\"], [0.3333333333333333, \"#9c179e\"], [0.4444444444444444, \"#bd3786\"], [0.5555555555555556, \"#d8576b\"], [0.6666666666666666, \"#ed7953\"], [0.7777777777777778, \"#fb9f3a\"], [0.8888888888888888, \"#fdca26\"], [1.0, \"#f0f921\"]], \"type\": \"heatmap\"}], \"heatmapgl\": [{\"colorbar\": {\"outlinewidth\": 0, \"ticks\": \"\"}, \"colorscale\": [[0.0, \"#0d0887\"], [0.1111111111111111, \"#46039f\"], [0.2222222222222222, \"#7201a8\"], [0.3333333333333333, \"#9c179e\"], [0.4444444444444444, \"#bd3786\"], [0.5555555555555556, \"#d8576b\"], [0.6666666666666666, \"#ed7953\"], [0.7777777777777778, \"#fb9f3a\"], [0.8888888888888888, \"#fdca26\"], [1.0, \"#f0f921\"]], \"type\": \"heatmapgl\"}], \"histogram\": [{\"marker\": {\"colorbar\": {\"outlinewidth\": 0, \"ticks\": \"\"}}, \"type\": \"histogram\"}], \"histogram2d\": [{\"colorbar\": {\"outlinewidth\": 0, \"ticks\": \"\"}, \"colorscale\": [[0.0, \"#0d0887\"], [0.1111111111111111, \"#46039f\"], [0.2222222222222222, \"#7201a8\"], [0.3333333333333333, \"#9c179e\"], [0.4444444444444444, \"#bd3786\"], [0.5555555555555556, \"#d8576b\"], [0.6666666666666666, \"#ed7953\"], [0.7777777777777778, \"#fb9f3a\"], [0.8888888888888888, \"#fdca26\"], [1.0, \"#f0f921\"]], \"type\": \"histogram2d\"}], \"histogram2dcontour\": [{\"colorbar\": {\"outlinewidth\": 0, \"ticks\": \"\"}, \"colorscale\": [[0.0, \"#0d0887\"], [0.1111111111111111, \"#46039f\"], [0.2222222222222222, \"#7201a8\"], [0.3333333333333333, \"#9c179e\"], [0.4444444444444444, \"#bd3786\"], [0.5555555555555556, \"#d8576b\"], [0.6666666666666666, \"#ed7953\"], [0.7777777777777778, \"#fb9f3a\"], [0.8888888888888888, \"#fdca26\"], [1.0, \"#f0f921\"]], \"type\": \"histogram2dcontour\"}], \"mesh3d\": [{\"colorbar\": {\"outlinewidth\": 0, \"ticks\": \"\"}, \"type\": \"mesh3d\"}], \"parcoords\": [{\"line\": {\"colorbar\": {\"outlinewidth\": 0, \"ticks\": \"\"}}, \"type\": \"parcoords\"}], \"scatter\": [{\"marker\": {\"colorbar\": {\"outlinewidth\": 0, \"ticks\": \"\"}}, \"type\": \"scatter\"}], \"scatter3d\": [{\"line\": {\"colorbar\": {\"outlinewidth\": 0, \"ticks\": \"\"}}, \"marker\": {\"colorbar\": {\"outlinewidth\": 0, \"ticks\": \"\"}}, \"type\": \"scatter3d\"}], \"scattercarpet\": [{\"marker\": {\"colorbar\": {\"outlinewidth\": 0, \"ticks\": \"\"}}, \"type\": \"scattercarpet\"}], \"scattergeo\": [{\"marker\": {\"colorbar\": {\"outlinewidth\": 0, \"ticks\": \"\"}}, \"type\": \"scattergeo\"}], \"scattergl\": [{\"marker\": {\"colorbar\": {\"outlinewidth\": 0, \"ticks\": \"\"}}, \"type\": \"scattergl\"}], \"scattermapbox\": [{\"marker\": {\"colorbar\": {\"outlinewidth\": 0, \"ticks\": \"\"}}, \"type\": \"scattermapbox\"}], \"scatterpolar\": [{\"marker\": {\"colorbar\": {\"outlinewidth\": 0, \"ticks\": \"\"}}, \"type\": \"scatterpolar\"}], \"scatterpolargl\": [{\"marker\": {\"colorbar\": {\"outlinewidth\": 0, \"ticks\": \"\"}}, \"type\": \"scatterpolargl\"}], \"scatterternary\": [{\"marker\": {\"colorbar\": {\"outlinewidth\": 0, \"ticks\": \"\"}}, \"type\": \"scatterternary\"}], \"surface\": [{\"colorbar\": {\"outlinewidth\": 0, \"ticks\": \"\"}, \"colorscale\": [[0.0, \"#0d0887\"], [0.1111111111111111, \"#46039f\"], [0.2222222222222222, \"#7201a8\"], [0.3333333333333333, \"#9c179e\"], [0.4444444444444444, \"#bd3786\"], [0.5555555555555556, \"#d8576b\"], [0.6666666666666666, \"#ed7953\"], [0.7777777777777778, \"#fb9f3a\"], [0.8888888888888888, \"#fdca26\"], [1.0, \"#f0f921\"]], \"type\": \"surface\"}], \"table\": [{\"cells\": {\"fill\": {\"color\": \"#EBF0F8\"}, \"line\": {\"color\": \"white\"}}, \"header\": {\"fill\": {\"color\": \"#C8D4E3\"}, \"line\": {\"color\": \"white\"}}, \"type\": \"table\"}]}, \"layout\": {\"annotationdefaults\": {\"arrowcolor\": \"#2a3f5f\", \"arrowhead\": 0, \"arrowwidth\": 1}, \"colorscale\": {\"diverging\": [[0, \"#8e0152\"], [0.1, \"#c51b7d\"], [0.2, \"#de77ae\"], [0.3, \"#f1b6da\"], [0.4, \"#fde0ef\"], [0.5, \"#f7f7f7\"], [0.6, \"#e6f5d0\"], [0.7, \"#b8e186\"], [0.8, \"#7fbc41\"], [0.9, \"#4d9221\"], [1, \"#276419\"]], \"sequential\": [[0.0, \"#0d0887\"], [0.1111111111111111, \"#46039f\"], [0.2222222222222222, \"#7201a8\"], [0.3333333333333333, \"#9c179e\"], [0.4444444444444444, \"#bd3786\"], [0.5555555555555556, \"#d8576b\"], [0.6666666666666666, \"#ed7953\"], [0.7777777777777778, \"#fb9f3a\"], [0.8888888888888888, \"#fdca26\"], [1.0, \"#f0f921\"]], \"sequentialminus\": [[0.0, \"#0d0887\"], [0.1111111111111111, \"#46039f\"], [0.2222222222222222, \"#7201a8\"], [0.3333333333333333, \"#9c179e\"], [0.4444444444444444, \"#bd3786\"], [0.5555555555555556, \"#d8576b\"], [0.6666666666666666, \"#ed7953\"], [0.7777777777777778, \"#fb9f3a\"], [0.8888888888888888, \"#fdca26\"], [1.0, \"#f0f921\"]]}, \"colorway\": [\"#636efa\", \"#EF553B\", \"#00cc96\", \"#ab63fa\", \"#FFA15A\", \"#19d3f3\", \"#FF6692\", \"#B6E880\", \"#FF97FF\", \"#FECB52\"], \"font\": {\"color\": \"#2a3f5f\"}, \"geo\": {\"bgcolor\": \"white\", \"lakecolor\": \"white\", \"landcolor\": \"#E5ECF6\", \"showlakes\": true, \"showland\": true, \"subunitcolor\": \"white\"}, \"hoverlabel\": {\"align\": \"left\"}, \"hovermode\": \"closest\", \"mapbox\": {\"style\": \"light\"}, \"paper_bgcolor\": \"white\", \"plot_bgcolor\": \"#E5ECF6\", \"polar\": {\"angularaxis\": {\"gridcolor\": \"white\", \"linecolor\": \"white\", \"ticks\": \"\"}, \"bgcolor\": \"#E5ECF6\", \"radialaxis\": {\"gridcolor\": \"white\", \"linecolor\": \"white\", \"ticks\": \"\"}}, \"scene\": {\"xaxis\": {\"backgroundcolor\": \"#E5ECF6\", \"gridcolor\": \"white\", \"gridwidth\": 2, \"linecolor\": \"white\", \"showbackground\": true, \"ticks\": \"\", \"zerolinecolor\": \"white\"}, \"yaxis\": {\"backgroundcolor\": \"#E5ECF6\", \"gridcolor\": \"white\", \"gridwidth\": 2, \"linecolor\": \"white\", \"showbackground\": true, \"ticks\": \"\", \"zerolinecolor\": \"white\"}, \"zaxis\": {\"backgroundcolor\": \"#E5ECF6\", \"gridcolor\": \"white\", \"gridwidth\": 2, \"linecolor\": \"white\", \"showbackground\": true, \"ticks\": \"\", \"zerolinecolor\": \"white\"}}, \"shapedefaults\": {\"line\": {\"color\": \"#2a3f5f\"}}, \"ternary\": {\"aaxis\": {\"gridcolor\": \"white\", \"linecolor\": \"white\", \"ticks\": \"\"}, \"baxis\": {\"gridcolor\": \"white\", \"linecolor\": \"white\", \"ticks\": \"\"}, \"bgcolor\": \"#E5ECF6\", \"caxis\": {\"gridcolor\": \"white\", \"linecolor\": \"white\", \"ticks\": \"\"}}, \"title\": {\"x\": 0.05}, \"xaxis\": {\"automargin\": true, \"gridcolor\": \"white\", \"linecolor\": \"white\", \"ticks\": \"\", \"zerolinecolor\": \"white\", \"zerolinewidth\": 2}, \"yaxis\": {\"automargin\": true, \"gridcolor\": \"white\", \"linecolor\": \"white\", \"ticks\": \"\", \"zerolinecolor\": \"white\", \"zerolinewidth\": 2}}}, \"title\": {\"text\": \"<b>Actual Vs Predicted Sea Level since 1993</b>\"}, \"xaxis\": {\"anchor\": \"y\", \"domain\": [0.0, 0.94], \"gridcolor\": \"rgb(159, 197, 232)\", \"title\": {\"text\": \"<b>Year</b>\"}}, \"yaxis\": {\"anchor\": \"x\", \"domain\": [0.0, 1.0], \"showgrid\": false, \"title\": {\"text\": \"<b>Predicted (mm)</b> \"}}, \"yaxis2\": {\"anchor\": \"x\", \"gridcolor\": \"rgb(159, 197, 232)\", \"overlaying\": \"y\", \"side\": \"right\", \"title\": {\"text\": \"<b>Actual (mm)</b>\"}, \"zerolinecolor\": \"rgb(74, 134, 232)\"}},\n",
       "                        {\"responsive\": true}\n",
       "                    ).then(function(){\n",
       "                            \n",
       "var gd = document.getElementById('8eb19fce-2f62-4a36-b4aa-032684cae3ed');\n",
       "var x = new MutationObserver(function (mutations, observer) {{\n",
       "        var display = window.getComputedStyle(gd).display;\n",
       "        if (!display || display === 'none') {{\n",
       "            console.log([gd, 'removed!']);\n",
       "            Plotly.purge(gd);\n",
       "            observer.disconnect();\n",
       "        }}\n",
       "}});\n",
       "\n",
       "// Listen for the removal of the full notebook cells\n",
       "var notebookContainer = gd.closest('#notebook-container');\n",
       "if (notebookContainer) {{\n",
       "    x.observe(notebookContainer, {childList: true});\n",
       "}}\n",
       "\n",
       "// Listen for the clearing of the current output cell\n",
       "var outputEl = gd.closest('.output');\n",
       "if (outputEl) {{\n",
       "    x.observe(outputEl, {childList: true});\n",
       "}}\n",
       "\n",
       "                        })\n",
       "                };\n",
       "                });\n",
       "            </script>\n",
       "        </div>"
      ]
     },
     "metadata": {},
     "output_type": "display_data"
    }
   ],
   "source": [
    "fig = make_subplots(specs=[[{\"secondary_y\": True}]])\n",
    "\n",
    "fig.add_trace(\n",
    "    go.Scatter(x=df_ip['year'], y=predictions, name=\"Predicted Sea Level\", line=dict(color='green', width=3)),\n",
    "    secondary_y=False\n",
    ")\n",
    "\n",
    "fig.add_trace(\n",
    "    go.Scatter(x=df_ip['year'], y=df_ip['sea_level'], name=\"Actual Sea level\", line=dict(color='red', width=3)),\n",
    "    secondary_y=True\n",
    ")\n",
    "\n",
    "# Add figure title\n",
    "fig.update_layout(\n",
    "    title_text=\"<b>Actual Vs Predicted Sea Level since 1993</b>\",\n",
    "    plot_bgcolor='rgba(0,0,0,0)',\n",
    "    xaxis1={\"gridcolor\": \"rgb(159, 197, 232)\"},\n",
    "    yaxis2={\"gridcolor\": \"rgb(159, 197, 232)\", \"zerolinecolor\": \"rgb(74, 134, 232)\"},\n",
    ")\n",
    "\n",
    "# Set x-axis title\n",
    "fig.update_xaxes(title_text=\"<b>Year</b>\")\n",
    "\n",
    "# Set y-axes titles\n",
    "fig.update_yaxes(title_text=\"<b>Predicted (mm)</b> \", secondary_y=False, showgrid=False)\n",
    "fig.update_yaxes(title_text=\"<b>Actual (mm)</b>\", secondary_y=True)\n",
    "\n",
    "fig.show()"
   ]
  }
 ],
 "metadata": {
  "kernelspec": {
   "display_name": "Python 3",
   "language": "python",
   "name": "python3"
  },
  "language_info": {
   "codemirror_mode": {
    "name": "ipython",
    "version": 3
   },
   "file_extension": ".py",
   "mimetype": "text/x-python",
   "name": "python",
   "nbconvert_exporter": "python",
   "pygments_lexer": "ipython3",
   "version": "3.7.3"
  }
 },
 "nbformat": 4,
 "nbformat_minor": 2
}
